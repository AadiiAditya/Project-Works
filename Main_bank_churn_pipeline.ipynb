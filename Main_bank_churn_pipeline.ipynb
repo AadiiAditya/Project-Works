{
  "cells": [
    {
      "cell_type": "markdown",
      "source": [
        "# **📒Master Thesis**\n",
        "\n",
        "### **Submitted by:** Navya Agarwal & Aditya Rautela\n",
        "### **GH Number:** GH1035199 , GH1033598\n",
        "### **Programme:** MSc Data Science, AI, and Digital Business"
      ],
      "metadata": {
        "id": "DR6nQ9KAm0To"
      },
      "id": "DR6nQ9KAm0To"
    },
    {
      "cell_type": "markdown",
      "source": [
        "# **A Comparative Analysis of Classical and Quantum Computing**\n",
        "\n",
        "This pipeline has been developed using a Bank Churn dataset, which presents a real-world classification challenge: predicting whether a customer will leave (churn) or remain with a financial institution.\n",
        "\n",
        "Key features in the dataset include:\n",
        "  \n",
        "- **CreditScore** – Customer’s credit score.  \n",
        "- **Geography** – Country/region of the customer.  \n",
        "- **Gender** – Male or Female.  \n",
        "- **Age** – Age of the customer.  \n",
        "- **Years_Customer** – Number of years the customer has been with the bank.  \n",
        "- **Balance(Euros)** – Account balance.  \n",
        "- **Num_Of_Products** – Number of bank products used by the customer.  \n",
        "- **Has_Credit_Card** – Whether the customer holds a credit card (Yes/No).  \n",
        "- **Is_Active_Member** – Whether the customer is an active member.  \n",
        "- **Estimated_Salary(Euros)** – Estimated salary of the customer.  \n",
        "- **Churn (Exited)** – Target variable (1 = churned, 0 = stayed)."
      ],
      "metadata": {
        "id": "7f0d14oFkAI5"
      },
      "id": "7f0d14oFkAI5"
    },
    {
      "cell_type": "markdown",
      "source": [
        "**This pipeline follows a standard ML workflow:**  \n",
        "- Importing libraries  \n",
        "- Loading the dataset\n",
        "- splitting the dataset into train & test\n",
        "- Exploring visualising the data\n",
        "- Cleaning the data\n",
        "- Scaling and normalizing features  \n",
        "- Feature & target selection  \n",
        "- Training classical ML models\n",
        "- Training quantum ML models  \n",
        "- Evaluating results using accuracy, confusion matrix, and classification report\n",
        "- Final Analysis and Report"
      ],
      "metadata": {
        "id": "V1HNXLO327QL"
      },
      "id": "V1HNXLO327QL"
    },
    {
      "cell_type": "markdown",
      "source": [
        "**Installing libraries for qunatum model study**"
      ],
      "metadata": {
        "id": "y9ODBjb_N7xl"
      },
      "id": "y9ODBjb_N7xl"
    },
    {
      "cell_type": "code",
      "source": [
        "!pip install qiskit qiskit-algorithms qiskit-machine-learning"
      ],
      "metadata": {
        "colab": {
          "base_uri": "https://localhost:8080/"
        },
        "collapsed": true,
        "id": "nHfUGaFooHJm",
        "outputId": "75e40f62-1d57-4097-a162-e2b161e257f9"
      },
      "id": "nHfUGaFooHJm",
      "execution_count": null,
      "outputs": [
        {
          "output_type": "stream",
          "name": "stdout",
          "text": [
            "Requirement already satisfied: qiskit in /usr/local/lib/python3.12/dist-packages (1.4.4)\n",
            "Requirement already satisfied: qiskit-algorithms in /usr/local/lib/python3.12/dist-packages (0.4.0)\n",
            "Requirement already satisfied: qiskit-machine-learning in /usr/local/lib/python3.12/dist-packages (0.8.4)\n",
            "Requirement already satisfied: rustworkx>=0.15.0 in /usr/local/lib/python3.12/dist-packages (from qiskit) (0.17.1)\n",
            "Requirement already satisfied: numpy<3,>=1.17 in /usr/local/lib/python3.12/dist-packages (from qiskit) (2.0.2)\n",
            "Requirement already satisfied: scipy>=1.5 in /usr/local/lib/python3.12/dist-packages (from qiskit) (1.15.3)\n",
            "Requirement already satisfied: sympy>=1.3 in /usr/local/lib/python3.12/dist-packages (from qiskit) (1.13.3)\n",
            "Requirement already satisfied: dill>=0.3 in /usr/local/lib/python3.12/dist-packages (from qiskit) (0.3.8)\n",
            "Requirement already satisfied: python-dateutil>=2.8.0 in /usr/local/lib/python3.12/dist-packages (from qiskit) (2.9.0.post0)\n",
            "Requirement already satisfied: stevedore>=3.0.0 in /usr/local/lib/python3.12/dist-packages (from qiskit) (5.5.0)\n",
            "Requirement already satisfied: typing-extensions in /usr/local/lib/python3.12/dist-packages (from qiskit) (4.15.0)\n",
            "Requirement already satisfied: symengine<0.14,>=0.11 in /usr/local/lib/python3.12/dist-packages (from qiskit) (0.13.0)\n",
            "Requirement already satisfied: scikit-learn>=1.2 in /usr/local/lib/python3.12/dist-packages (from qiskit-machine-learning) (1.6.1)\n",
            "Requirement already satisfied: setuptools>=40.1 in /usr/local/lib/python3.12/dist-packages (from qiskit-machine-learning) (75.2.0)\n",
            "Requirement already satisfied: six>=1.5 in /usr/local/lib/python3.12/dist-packages (from python-dateutil>=2.8.0->qiskit) (1.17.0)\n",
            "Requirement already satisfied: joblib>=1.2.0 in /usr/local/lib/python3.12/dist-packages (from scikit-learn>=1.2->qiskit-machine-learning) (1.5.2)\n",
            "Requirement already satisfied: threadpoolctl>=3.1.0 in /usr/local/lib/python3.12/dist-packages (from scikit-learn>=1.2->qiskit-machine-learning) (3.6.0)\n",
            "Requirement already satisfied: mpmath<1.4,>=1.1.0 in /usr/local/lib/python3.12/dist-packages (from sympy>=1.3->qiskit) (1.3.0)\n"
          ]
        }
      ]
    },
    {
      "cell_type": "code",
      "source": [
        "!pip install qiskit-aer"
      ],
      "metadata": {
        "colab": {
          "base_uri": "https://localhost:8080/"
        },
        "id": "6uAfx0t4yfLr",
        "outputId": "06b69d1b-5984-4c9e-9281-da1a9d3e1c88",
        "collapsed": true
      },
      "id": "6uAfx0t4yfLr",
      "execution_count": null,
      "outputs": [
        {
          "output_type": "stream",
          "name": "stdout",
          "text": [
            "Collecting qiskit-aer\n",
            "  Downloading qiskit_aer-0.17.2-cp312-cp312-manylinux_2_17_x86_64.manylinux2014_x86_64.whl.metadata (8.3 kB)\n",
            "Requirement already satisfied: qiskit>=1.1.0 in /usr/local/lib/python3.12/dist-packages (from qiskit-aer) (1.4.4)\n",
            "Requirement already satisfied: numpy>=1.16.3 in /usr/local/lib/python3.12/dist-packages (from qiskit-aer) (2.0.2)\n",
            "Requirement already satisfied: scipy>=1.0 in /usr/local/lib/python3.12/dist-packages (from qiskit-aer) (1.15.3)\n",
            "Requirement already satisfied: psutil>=5 in /usr/local/lib/python3.12/dist-packages (from qiskit-aer) (5.9.5)\n",
            "Requirement already satisfied: python-dateutil>=2.8.0 in /usr/local/lib/python3.12/dist-packages (from qiskit-aer) (2.9.0.post0)\n",
            "Requirement already satisfied: six>=1.5 in /usr/local/lib/python3.12/dist-packages (from python-dateutil>=2.8.0->qiskit-aer) (1.17.0)\n",
            "Requirement already satisfied: rustworkx>=0.15.0 in /usr/local/lib/python3.12/dist-packages (from qiskit>=1.1.0->qiskit-aer) (0.17.1)\n",
            "Requirement already satisfied: sympy>=1.3 in /usr/local/lib/python3.12/dist-packages (from qiskit>=1.1.0->qiskit-aer) (1.13.3)\n",
            "Requirement already satisfied: dill>=0.3 in /usr/local/lib/python3.12/dist-packages (from qiskit>=1.1.0->qiskit-aer) (0.3.8)\n",
            "Requirement already satisfied: stevedore>=3.0.0 in /usr/local/lib/python3.12/dist-packages (from qiskit>=1.1.0->qiskit-aer) (5.5.0)\n",
            "Requirement already satisfied: typing-extensions in /usr/local/lib/python3.12/dist-packages (from qiskit>=1.1.0->qiskit-aer) (4.15.0)\n",
            "Requirement already satisfied: symengine<0.14,>=0.11 in /usr/local/lib/python3.12/dist-packages (from qiskit>=1.1.0->qiskit-aer) (0.13.0)\n",
            "Requirement already satisfied: mpmath<1.4,>=1.1.0 in /usr/local/lib/python3.12/dist-packages (from sympy>=1.3->qiskit>=1.1.0->qiskit-aer) (1.3.0)\n",
            "Downloading qiskit_aer-0.17.2-cp312-cp312-manylinux_2_17_x86_64.manylinux2014_x86_64.whl (12.4 MB)\n",
            "\u001b[2K   \u001b[90m━━━━━━━━━━━━━━━━━━━━━━━━━━━━━━━━━━━━━━━━\u001b[0m \u001b[32m12.4/12.4 MB\u001b[0m \u001b[31m45.8 MB/s\u001b[0m eta \u001b[36m0:00:00\u001b[0m\n",
            "\u001b[?25hInstalling collected packages: qiskit-aer\n",
            "Successfully installed qiskit-aer-0.17.2\n"
          ]
        }
      ]
    },
    {
      "cell_type": "markdown",
      "source": [
        "# **Importing Essential Libraries**"
      ],
      "metadata": {
        "id": "VDeXCGiXU0Vk"
      },
      "id": "VDeXCGiXU0Vk"
    },
    {
      "cell_type": "code",
      "source": [
        "import pandas as pd\n",
        "import numpy as np\n",
        "import matplotlib.pyplot as plt\n",
        "import seaborn as sns\n",
        "import time\n",
        "\n",
        "import sklearn\n",
        "from sklearn.model_selection import train_test_split, cross_val_score, StratifiedKFold\n",
        "from sklearn.preprocessing import StandardScaler, MinMaxScaler\n",
        "from sklearn.model_selection import GridSearchCV\n",
        "from sklearn.compose import ColumnTransformer\n",
        "from sklearn.pipeline import Pipeline\n",
        "from sklearn.decomposition import PCA\n",
        "from sklearn.svm import SVC\n",
        "from sklearn.feature_selection import SelectKBest, f_classif\n",
        "\n",
        "from sklearn.svm import SVC\n",
        "from sklearn.ensemble import RandomForestClassifier, GradientBoostingClassifier\n",
        "from sklearn.linear_model import LogisticRegression\n",
        "\n",
        "from imblearn.over_sampling import SMOTE\n",
        "from imblearn.pipeline import Pipeline as ImbPipeline\n",
        "\n",
        "from sklearn.metrics import (\n",
        "    classification_report, confusion_matrix, ConfusionMatrixDisplay, accuracy_score,\n",
        "    precision_score, recall_score, f1_score, roc_auc_score, balanced_accuracy_score)\n",
        "\n",
        "# Quantum imports\n",
        "import time\n",
        "import qiskit\n",
        "import qiskit_aer\n",
        "import qiskit_algorithms\n",
        "import qiskit_machine_learning\n",
        "\n",
        "from sklearn.utils import resample\n",
        "from qiskit_aer import AerSimulator\n",
        "from qiskit.circuit import ParameterVector\n",
        "from qiskit import transpile, QuantumCircuit\n",
        "from qiskit_algorithms.optimizers import COBYLA\n",
        "from qiskit_aer.primitives import SamplerV2, EstimatorV2\n",
        "from qiskit.circuit.library import ZFeatureMap, RealAmplitudes, PauliFeatureMap, ZZFeatureMap, TwoLocal\n",
        "from qiskit_algorithms.state_fidelities import ComputeUncompute\n",
        "from qiskit_machine_learning.kernels import FidelityQuantumKernel\n",
        "from qiskit_machine_learning.algorithms import QSVC, VQC, PegasosQSVC\n",
        "\n",
        "import warnings\n",
        "warnings.filterwarnings('ignore')"
      ],
      "metadata": {
        "id": "jdpZWQ2yoClc"
      },
      "id": "jdpZWQ2yoClc",
      "execution_count": null,
      "outputs": []
    },
    {
      "cell_type": "markdown",
      "source": [
        "# **Data Loading**\n",
        "\n",
        "This gives a breif description of the columns and their values in the dataset."
      ],
      "metadata": {
        "id": "2o3osONzP7mp"
      },
      "id": "2o3osONzP7mp"
    },
    {
      "cell_type": "code",
      "source": [
        "df = pd.read_csv(\"/content/bank_churn.csv\")\n",
        "\n",
        "df.head()"
      ],
      "metadata": {
        "colab": {
          "base_uri": "https://localhost:8080/",
          "height": 206
        },
        "id": "Yxz8OcyzoJhY",
        "outputId": "053ad976-d51c-453b-f3f1-b91ffac3e1fe"
      },
      "id": "Yxz8OcyzoJhY",
      "execution_count": null,
      "outputs": [
        {
          "output_type": "execute_result",
          "data": {
            "text/plain": [
              "   credit_score      country gender  age  years_customer  balance_euros  \\\n",
              "0           619  Switzerland      f   42               2           0.00   \n",
              "1           608      Austria      f   41               1       83807.86   \n",
              "2           502  Switzerland      f   42               8      159660.80   \n",
              "3           699  Switzerland      f   39               1           0.00   \n",
              "4           850      Austria      f   43               2      125510.82   \n",
              "\n",
              "   num_products  has_credit_card  is_active  salary_euros  churn  \n",
              "0             1                1          1     101348.88      1  \n",
              "1             1                0          1     112542.58      0  \n",
              "2             3                1          0     113931.57      1  \n",
              "3             2                0          0      93826.63      0  \n",
              "4             1                1          1      79084.10      0  "
            ],
            "text/html": [
              "\n",
              "  <div id=\"df-2667708f-9b9b-47d8-ab21-0b4de1a3975d\" class=\"colab-df-container\">\n",
              "    <div>\n",
              "<style scoped>\n",
              "    .dataframe tbody tr th:only-of-type {\n",
              "        vertical-align: middle;\n",
              "    }\n",
              "\n",
              "    .dataframe tbody tr th {\n",
              "        vertical-align: top;\n",
              "    }\n",
              "\n",
              "    .dataframe thead th {\n",
              "        text-align: right;\n",
              "    }\n",
              "</style>\n",
              "<table border=\"1\" class=\"dataframe\">\n",
              "  <thead>\n",
              "    <tr style=\"text-align: right;\">\n",
              "      <th></th>\n",
              "      <th>credit_score</th>\n",
              "      <th>country</th>\n",
              "      <th>gender</th>\n",
              "      <th>age</th>\n",
              "      <th>years_customer</th>\n",
              "      <th>balance_euros</th>\n",
              "      <th>num_products</th>\n",
              "      <th>has_credit_card</th>\n",
              "      <th>is_active</th>\n",
              "      <th>salary_euros</th>\n",
              "      <th>churn</th>\n",
              "    </tr>\n",
              "  </thead>\n",
              "  <tbody>\n",
              "    <tr>\n",
              "      <th>0</th>\n",
              "      <td>619</td>\n",
              "      <td>Switzerland</td>\n",
              "      <td>f</td>\n",
              "      <td>42</td>\n",
              "      <td>2</td>\n",
              "      <td>0.00</td>\n",
              "      <td>1</td>\n",
              "      <td>1</td>\n",
              "      <td>1</td>\n",
              "      <td>101348.88</td>\n",
              "      <td>1</td>\n",
              "    </tr>\n",
              "    <tr>\n",
              "      <th>1</th>\n",
              "      <td>608</td>\n",
              "      <td>Austria</td>\n",
              "      <td>f</td>\n",
              "      <td>41</td>\n",
              "      <td>1</td>\n",
              "      <td>83807.86</td>\n",
              "      <td>1</td>\n",
              "      <td>0</td>\n",
              "      <td>1</td>\n",
              "      <td>112542.58</td>\n",
              "      <td>0</td>\n",
              "    </tr>\n",
              "    <tr>\n",
              "      <th>2</th>\n",
              "      <td>502</td>\n",
              "      <td>Switzerland</td>\n",
              "      <td>f</td>\n",
              "      <td>42</td>\n",
              "      <td>8</td>\n",
              "      <td>159660.80</td>\n",
              "      <td>3</td>\n",
              "      <td>1</td>\n",
              "      <td>0</td>\n",
              "      <td>113931.57</td>\n",
              "      <td>1</td>\n",
              "    </tr>\n",
              "    <tr>\n",
              "      <th>3</th>\n",
              "      <td>699</td>\n",
              "      <td>Switzerland</td>\n",
              "      <td>f</td>\n",
              "      <td>39</td>\n",
              "      <td>1</td>\n",
              "      <td>0.00</td>\n",
              "      <td>2</td>\n",
              "      <td>0</td>\n",
              "      <td>0</td>\n",
              "      <td>93826.63</td>\n",
              "      <td>0</td>\n",
              "    </tr>\n",
              "    <tr>\n",
              "      <th>4</th>\n",
              "      <td>850</td>\n",
              "      <td>Austria</td>\n",
              "      <td>f</td>\n",
              "      <td>43</td>\n",
              "      <td>2</td>\n",
              "      <td>125510.82</td>\n",
              "      <td>1</td>\n",
              "      <td>1</td>\n",
              "      <td>1</td>\n",
              "      <td>79084.10</td>\n",
              "      <td>0</td>\n",
              "    </tr>\n",
              "  </tbody>\n",
              "</table>\n",
              "</div>\n",
              "    <div class=\"colab-df-buttons\">\n",
              "\n",
              "  <div class=\"colab-df-container\">\n",
              "    <button class=\"colab-df-convert\" onclick=\"convertToInteractive('df-2667708f-9b9b-47d8-ab21-0b4de1a3975d')\"\n",
              "            title=\"Convert this dataframe to an interactive table.\"\n",
              "            style=\"display:none;\">\n",
              "\n",
              "  <svg xmlns=\"http://www.w3.org/2000/svg\" height=\"24px\" viewBox=\"0 -960 960 960\">\n",
              "    <path d=\"M120-120v-720h720v720H120Zm60-500h600v-160H180v160Zm220 220h160v-160H400v160Zm0 220h160v-160H400v160ZM180-400h160v-160H180v160Zm440 0h160v-160H620v160ZM180-180h160v-160H180v160Zm440 0h160v-160H620v160Z\"/>\n",
              "  </svg>\n",
              "    </button>\n",
              "\n",
              "  <style>\n",
              "    .colab-df-container {\n",
              "      display:flex;\n",
              "      gap: 12px;\n",
              "    }\n",
              "\n",
              "    .colab-df-convert {\n",
              "      background-color: #E8F0FE;\n",
              "      border: none;\n",
              "      border-radius: 50%;\n",
              "      cursor: pointer;\n",
              "      display: none;\n",
              "      fill: #1967D2;\n",
              "      height: 32px;\n",
              "      padding: 0 0 0 0;\n",
              "      width: 32px;\n",
              "    }\n",
              "\n",
              "    .colab-df-convert:hover {\n",
              "      background-color: #E2EBFA;\n",
              "      box-shadow: 0px 1px 2px rgba(60, 64, 67, 0.3), 0px 1px 3px 1px rgba(60, 64, 67, 0.15);\n",
              "      fill: #174EA6;\n",
              "    }\n",
              "\n",
              "    .colab-df-buttons div {\n",
              "      margin-bottom: 4px;\n",
              "    }\n",
              "\n",
              "    [theme=dark] .colab-df-convert {\n",
              "      background-color: #3B4455;\n",
              "      fill: #D2E3FC;\n",
              "    }\n",
              "\n",
              "    [theme=dark] .colab-df-convert:hover {\n",
              "      background-color: #434B5C;\n",
              "      box-shadow: 0px 1px 3px 1px rgba(0, 0, 0, 0.15);\n",
              "      filter: drop-shadow(0px 1px 2px rgba(0, 0, 0, 0.3));\n",
              "      fill: #FFFFFF;\n",
              "    }\n",
              "  </style>\n",
              "\n",
              "    <script>\n",
              "      const buttonEl =\n",
              "        document.querySelector('#df-2667708f-9b9b-47d8-ab21-0b4de1a3975d button.colab-df-convert');\n",
              "      buttonEl.style.display =\n",
              "        google.colab.kernel.accessAllowed ? 'block' : 'none';\n",
              "\n",
              "      async function convertToInteractive(key) {\n",
              "        const element = document.querySelector('#df-2667708f-9b9b-47d8-ab21-0b4de1a3975d');\n",
              "        const dataTable =\n",
              "          await google.colab.kernel.invokeFunction('convertToInteractive',\n",
              "                                                    [key], {});\n",
              "        if (!dataTable) return;\n",
              "\n",
              "        const docLinkHtml = 'Like what you see? Visit the ' +\n",
              "          '<a target=\"_blank\" href=https://colab.research.google.com/notebooks/data_table.ipynb>data table notebook</a>'\n",
              "          + ' to learn more about interactive tables.';\n",
              "        element.innerHTML = '';\n",
              "        dataTable['output_type'] = 'display_data';\n",
              "        await google.colab.output.renderOutput(dataTable, element);\n",
              "        const docLink = document.createElement('div');\n",
              "        docLink.innerHTML = docLinkHtml;\n",
              "        element.appendChild(docLink);\n",
              "      }\n",
              "    </script>\n",
              "  </div>\n",
              "\n",
              "\n",
              "    <div id=\"df-fbd071e6-f3a3-41d5-81af-817c17b5dd84\">\n",
              "      <button class=\"colab-df-quickchart\" onclick=\"quickchart('df-fbd071e6-f3a3-41d5-81af-817c17b5dd84')\"\n",
              "                title=\"Suggest charts\"\n",
              "                style=\"display:none;\">\n",
              "\n",
              "<svg xmlns=\"http://www.w3.org/2000/svg\" height=\"24px\"viewBox=\"0 0 24 24\"\n",
              "     width=\"24px\">\n",
              "    <g>\n",
              "        <path d=\"M19 3H5c-1.1 0-2 .9-2 2v14c0 1.1.9 2 2 2h14c1.1 0 2-.9 2-2V5c0-1.1-.9-2-2-2zM9 17H7v-7h2v7zm4 0h-2V7h2v10zm4 0h-2v-4h2v4z\"/>\n",
              "    </g>\n",
              "</svg>\n",
              "      </button>\n",
              "\n",
              "<style>\n",
              "  .colab-df-quickchart {\n",
              "      --bg-color: #E8F0FE;\n",
              "      --fill-color: #1967D2;\n",
              "      --hover-bg-color: #E2EBFA;\n",
              "      --hover-fill-color: #174EA6;\n",
              "      --disabled-fill-color: #AAA;\n",
              "      --disabled-bg-color: #DDD;\n",
              "  }\n",
              "\n",
              "  [theme=dark] .colab-df-quickchart {\n",
              "      --bg-color: #3B4455;\n",
              "      --fill-color: #D2E3FC;\n",
              "      --hover-bg-color: #434B5C;\n",
              "      --hover-fill-color: #FFFFFF;\n",
              "      --disabled-bg-color: #3B4455;\n",
              "      --disabled-fill-color: #666;\n",
              "  }\n",
              "\n",
              "  .colab-df-quickchart {\n",
              "    background-color: var(--bg-color);\n",
              "    border: none;\n",
              "    border-radius: 50%;\n",
              "    cursor: pointer;\n",
              "    display: none;\n",
              "    fill: var(--fill-color);\n",
              "    height: 32px;\n",
              "    padding: 0;\n",
              "    width: 32px;\n",
              "  }\n",
              "\n",
              "  .colab-df-quickchart:hover {\n",
              "    background-color: var(--hover-bg-color);\n",
              "    box-shadow: 0 1px 2px rgba(60, 64, 67, 0.3), 0 1px 3px 1px rgba(60, 64, 67, 0.15);\n",
              "    fill: var(--button-hover-fill-color);\n",
              "  }\n",
              "\n",
              "  .colab-df-quickchart-complete:disabled,\n",
              "  .colab-df-quickchart-complete:disabled:hover {\n",
              "    background-color: var(--disabled-bg-color);\n",
              "    fill: var(--disabled-fill-color);\n",
              "    box-shadow: none;\n",
              "  }\n",
              "\n",
              "  .colab-df-spinner {\n",
              "    border: 2px solid var(--fill-color);\n",
              "    border-color: transparent;\n",
              "    border-bottom-color: var(--fill-color);\n",
              "    animation:\n",
              "      spin 1s steps(1) infinite;\n",
              "  }\n",
              "\n",
              "  @keyframes spin {\n",
              "    0% {\n",
              "      border-color: transparent;\n",
              "      border-bottom-color: var(--fill-color);\n",
              "      border-left-color: var(--fill-color);\n",
              "    }\n",
              "    20% {\n",
              "      border-color: transparent;\n",
              "      border-left-color: var(--fill-color);\n",
              "      border-top-color: var(--fill-color);\n",
              "    }\n",
              "    30% {\n",
              "      border-color: transparent;\n",
              "      border-left-color: var(--fill-color);\n",
              "      border-top-color: var(--fill-color);\n",
              "      border-right-color: var(--fill-color);\n",
              "    }\n",
              "    40% {\n",
              "      border-color: transparent;\n",
              "      border-right-color: var(--fill-color);\n",
              "      border-top-color: var(--fill-color);\n",
              "    }\n",
              "    60% {\n",
              "      border-color: transparent;\n",
              "      border-right-color: var(--fill-color);\n",
              "    }\n",
              "    80% {\n",
              "      border-color: transparent;\n",
              "      border-right-color: var(--fill-color);\n",
              "      border-bottom-color: var(--fill-color);\n",
              "    }\n",
              "    90% {\n",
              "      border-color: transparent;\n",
              "      border-bottom-color: var(--fill-color);\n",
              "    }\n",
              "  }\n",
              "</style>\n",
              "\n",
              "      <script>\n",
              "        async function quickchart(key) {\n",
              "          const quickchartButtonEl =\n",
              "            document.querySelector('#' + key + ' button');\n",
              "          quickchartButtonEl.disabled = true;  // To prevent multiple clicks.\n",
              "          quickchartButtonEl.classList.add('colab-df-spinner');\n",
              "          try {\n",
              "            const charts = await google.colab.kernel.invokeFunction(\n",
              "                'suggestCharts', [key], {});\n",
              "          } catch (error) {\n",
              "            console.error('Error during call to suggestCharts:', error);\n",
              "          }\n",
              "          quickchartButtonEl.classList.remove('colab-df-spinner');\n",
              "          quickchartButtonEl.classList.add('colab-df-quickchart-complete');\n",
              "        }\n",
              "        (() => {\n",
              "          let quickchartButtonEl =\n",
              "            document.querySelector('#df-fbd071e6-f3a3-41d5-81af-817c17b5dd84 button');\n",
              "          quickchartButtonEl.style.display =\n",
              "            google.colab.kernel.accessAllowed ? 'block' : 'none';\n",
              "        })();\n",
              "      </script>\n",
              "    </div>\n",
              "\n",
              "    </div>\n",
              "  </div>\n"
            ],
            "application/vnd.google.colaboratory.intrinsic+json": {
              "type": "dataframe",
              "variable_name": "df",
              "summary": "{\n  \"name\": \"df\",\n  \"rows\": 10000,\n  \"fields\": [\n    {\n      \"column\": \"credit_score\",\n      \"properties\": {\n        \"dtype\": \"number\",\n        \"std\": 96,\n        \"min\": 350,\n        \"max\": 850,\n        \"num_unique_values\": 460,\n        \"samples\": [\n          754,\n          533,\n          744\n        ],\n        \"semantic_type\": \"\",\n        \"description\": \"\"\n      }\n    },\n    {\n      \"column\": \"country\",\n      \"properties\": {\n        \"dtype\": \"category\",\n        \"num_unique_values\": 3,\n        \"samples\": [\n          \"Switzerland\",\n          \"Austria\",\n          \"Germany\"\n        ],\n        \"semantic_type\": \"\",\n        \"description\": \"\"\n      }\n    },\n    {\n      \"column\": \"gender\",\n      \"properties\": {\n        \"dtype\": \"category\",\n        \"num_unique_values\": 2,\n        \"samples\": [\n          \"m\",\n          \"f\"\n        ],\n        \"semantic_type\": \"\",\n        \"description\": \"\"\n      }\n    },\n    {\n      \"column\": \"age\",\n      \"properties\": {\n        \"dtype\": \"number\",\n        \"std\": 10,\n        \"min\": 18,\n        \"max\": 92,\n        \"num_unique_values\": 70,\n        \"samples\": [\n          61,\n          42\n        ],\n        \"semantic_type\": \"\",\n        \"description\": \"\"\n      }\n    },\n    {\n      \"column\": \"years_customer\",\n      \"properties\": {\n        \"dtype\": \"number\",\n        \"std\": 2,\n        \"min\": 0,\n        \"max\": 10,\n        \"num_unique_values\": 11,\n        \"samples\": [\n          6,\n          2\n        ],\n        \"semantic_type\": \"\",\n        \"description\": \"\"\n      }\n    },\n    {\n      \"column\": \"balance_euros\",\n      \"properties\": {\n        \"dtype\": \"number\",\n        \"std\": 62397.40520238623,\n        \"min\": 0.0,\n        \"max\": 250898.09,\n        \"num_unique_values\": 6382,\n        \"samples\": [\n          117707.18,\n          133050.97\n        ],\n        \"semantic_type\": \"\",\n        \"description\": \"\"\n      }\n    },\n    {\n      \"column\": \"num_products\",\n      \"properties\": {\n        \"dtype\": \"number\",\n        \"std\": 0,\n        \"min\": 1,\n        \"max\": 4,\n        \"num_unique_values\": 4,\n        \"samples\": [\n          3,\n          4\n        ],\n        \"semantic_type\": \"\",\n        \"description\": \"\"\n      }\n    },\n    {\n      \"column\": \"has_credit_card\",\n      \"properties\": {\n        \"dtype\": \"number\",\n        \"std\": 0,\n        \"min\": 0,\n        \"max\": 1,\n        \"num_unique_values\": 2,\n        \"samples\": [\n          0,\n          1\n        ],\n        \"semantic_type\": \"\",\n        \"description\": \"\"\n      }\n    },\n    {\n      \"column\": \"is_active\",\n      \"properties\": {\n        \"dtype\": \"number\",\n        \"std\": 0,\n        \"min\": 0,\n        \"max\": 1,\n        \"num_unique_values\": 2,\n        \"samples\": [\n          0,\n          1\n        ],\n        \"semantic_type\": \"\",\n        \"description\": \"\"\n      }\n    },\n    {\n      \"column\": \"salary_euros\",\n      \"properties\": {\n        \"dtype\": \"number\",\n        \"std\": 57510.49281769822,\n        \"min\": 11.58,\n        \"max\": 199992.48,\n        \"num_unique_values\": 9999,\n        \"samples\": [\n          100809.99,\n          95273.73\n        ],\n        \"semantic_type\": \"\",\n        \"description\": \"\"\n      }\n    },\n    {\n      \"column\": \"churn\",\n      \"properties\": {\n        \"dtype\": \"number\",\n        \"std\": 0,\n        \"min\": 0,\n        \"max\": 1,\n        \"num_unique_values\": 2,\n        \"samples\": [\n          0,\n          1\n        ],\n        \"semantic_type\": \"\",\n        \"description\": \"\"\n      }\n    }\n  ]\n}"
            }
          },
          "metadata": {},
          "execution_count": 2
        }
      ]
    },
    {
      "cell_type": "markdown",
      "source": [
        "**Checking the original class distribution**"
      ],
      "metadata": {
        "id": "lp8aXBq2QBzg"
      },
      "id": "lp8aXBq2QBzg"
    },
    {
      "cell_type": "code",
      "source": [
        "print(\"🔄 Checking for the original Class Distribution...\")\n",
        "\n",
        "print(\"Original dataset shape:\", df.shape)\n",
        "print(\"Original class distribution:\")\n",
        "print(df['churn'].value_counts())\n",
        "\n",
        "# Separate classes\n",
        "class_0 = df[df['churn'] == 0]\n",
        "class_1 = df[df['churn'] == 1]\n",
        "\n",
        "print(f\"\\nClass 0 samples: {len(class_0)}\")\n",
        "print(f\"Class 1 samples: {len(class_1)}\")"
      ],
      "metadata": {
        "colab": {
          "base_uri": "https://localhost:8080/"
        },
        "id": "1TE-a-pGO322",
        "outputId": "cf52785e-1b09-4e68-dabe-cb214eb94254"
      },
      "id": "1TE-a-pGO322",
      "execution_count": null,
      "outputs": [
        {
          "output_type": "stream",
          "name": "stdout",
          "text": [
            "🔄 Checking for the original Class Distribution...\n",
            "Original dataset shape: (10000, 11)\n",
            "Original class distribution:\n",
            "churn\n",
            "0    7963\n",
            "1    2037\n",
            "Name: count, dtype: int64\n",
            "\n",
            "Class 0 samples: 7963\n",
            "Class 1 samples: 2037\n"
          ]
        }
      ]
    },
    {
      "cell_type": "markdown",
      "source": [
        "While checking for the original disribution of the classes, it came into our notice that the classes were highly imbalanced.\n",
        "\n",
        "---\n",
        "\n"
      ],
      "metadata": {
        "id": "I0wWgGJG6vXj"
      },
      "id": "I0wWgGJG6vXj"
    },
    {
      "cell_type": "markdown",
      "source": [
        "**Creating Balanced Dataset with 500 samples per class**"
      ],
      "metadata": {
        "id": "99XTNL6hvS6q"
      },
      "id": "99XTNL6hvS6q"
    },
    {
      "cell_type": "code",
      "source": [
        "print(\"🔄 Creating Balanced Dataset with 500 samples per class...\")\n",
        "\n",
        "n_samples_per_class = 500\n",
        "\n",
        "# Sample without replacement\n",
        "class_0_sampled = class_0.sample(n=n_samples_per_class, random_state=42)\n",
        "class_1_sampled = class_1.sample(n=n_samples_per_class, random_state=42)\n",
        "\n",
        "# Combine and shuffle\n",
        "df_balanced = pd.concat([class_0_sampled, class_1_sampled])\n",
        "df_balanced = df_balanced.sample(frac=1, random_state=42).reset_index(drop=True)\n",
        "\n",
        "print(f\"\\nBalanced dataset shape: {df_balanced.shape}\")\n",
        "print(\"Balanced class distribution:\")\n",
        "print(df_balanced['churn'].value_counts())\n",
        "\n",
        "df = df_balanced"
      ],
      "metadata": {
        "colab": {
          "base_uri": "https://localhost:8080/"
        },
        "id": "8oDn057iPKms",
        "outputId": "3ac277f6-adc0-4c5c-8a20-12b91dc62e67"
      },
      "id": "8oDn057iPKms",
      "execution_count": null,
      "outputs": [
        {
          "output_type": "stream",
          "name": "stdout",
          "text": [
            "🔄 Creating Balanced Dataset with 500 samples per class...\n",
            "\n",
            "Balanced dataset shape: (1000, 11)\n",
            "Balanced class distribution:\n",
            "churn\n",
            "1    500\n",
            "0    500\n",
            "Name: count, dtype: int64\n"
          ]
        }
      ]
    },
    {
      "cell_type": "markdown",
      "source": [
        "Balancing the class disribution so that when the training happens, both the classes are trained on equal number of samples. High class imbalance can skews the model and training on imbalanced dataset can still achieve high accuracy for a particular class but then is completly useless.\n",
        "\n",
        "---"
      ],
      "metadata": {
        "id": "XAqqzO7l7ca3"
      },
      "id": "XAqqzO7l7ca3"
    },
    {
      "cell_type": "markdown",
      "source": [
        "# **Splitting the Data into Train & Test**\n",
        "\n"
      ],
      "metadata": {
        "id": "Us78d1J5QH3A"
      },
      "id": "Us78d1J5QH3A"
    },
    {
      "cell_type": "code",
      "source": [
        "df_train, df_test = sklearn.model_selection.train_test_split(df, test_size=0.2, random_state=42)\n",
        "\n",
        "print(\"df_size:\", df.shape)\n",
        "print(\"df_train:\", df_train.shape)\n",
        "print(\"df_test:\", df_test.shape)"
      ],
      "metadata": {
        "colab": {
          "base_uri": "https://localhost:8080/"
        },
        "id": "P4gy2o8DoPeE",
        "outputId": "8f1eb38f-a33d-42fa-d60e-315bc747cde6"
      },
      "id": "P4gy2o8DoPeE",
      "execution_count": null,
      "outputs": [
        {
          "output_type": "stream",
          "name": "stdout",
          "text": [
            "df_size: (1000, 11)\n",
            "df_train: (800, 11)\n",
            "df_test: (200, 11)\n"
          ]
        }
      ]
    },
    {
      "cell_type": "markdown",
      "source": [
        "Split the data into train and test to avoid data leakage.\n",
        "\n",
        "The test size = 0.2 i.e, 20% dataset will be used for testing and remaining 80% will be used for training.\n",
        "\n",
        "---"
      ],
      "metadata": {
        "id": "68uGA2Rk9gL6"
      },
      "id": "68uGA2Rk9gL6"
    },
    {
      "cell_type": "markdown",
      "source": [
        "# **Data Exploration**\n",
        "\n",
        "Exploring the dataset helps us to find the type of each features, check for the null/missing values in the dataset and analysing the disribution pattern of the feaures and their correlation."
      ],
      "metadata": {
        "id": "ElDbhzQ3QK7E"
      },
      "id": "ElDbhzQ3QK7E"
    },
    {
      "cell_type": "code",
      "source": [
        "df_train.info()"
      ],
      "metadata": {
        "colab": {
          "base_uri": "https://localhost:8080/"
        },
        "id": "-K7M8mEoQN5e",
        "outputId": "851b744d-a2bd-4acb-f2e7-4d77208e7500"
      },
      "id": "-K7M8mEoQN5e",
      "execution_count": null,
      "outputs": [
        {
          "output_type": "stream",
          "name": "stdout",
          "text": [
            "<class 'pandas.core.frame.DataFrame'>\n",
            "Index: 800 entries, 29 to 102\n",
            "Data columns (total 11 columns):\n",
            " #   Column           Non-Null Count  Dtype  \n",
            "---  ------           --------------  -----  \n",
            " 0   credit_score     800 non-null    int64  \n",
            " 1   country          800 non-null    object \n",
            " 2   gender           800 non-null    object \n",
            " 3   age              800 non-null    int64  \n",
            " 4   years_customer   800 non-null    int64  \n",
            " 5   balance_euros    800 non-null    float64\n",
            " 6   num_products     800 non-null    int64  \n",
            " 7   has_credit_card  800 non-null    int64  \n",
            " 8   is_active        800 non-null    int64  \n",
            " 9   salary_euros     800 non-null    float64\n",
            " 10  churn            800 non-null    int64  \n",
            "dtypes: float64(2), int64(7), object(2)\n",
            "memory usage: 75.0+ KB\n"
          ]
        }
      ]
    },
    {
      "cell_type": "code",
      "source": [
        "df_train.isnull().sum()"
      ],
      "metadata": {
        "colab": {
          "base_uri": "https://localhost:8080/",
          "height": 429
        },
        "id": "w34YTwFwQQdQ",
        "outputId": "95576c57-757a-4f50-e70d-ad91cfb3eeae"
      },
      "id": "w34YTwFwQQdQ",
      "execution_count": null,
      "outputs": [
        {
          "output_type": "execute_result",
          "data": {
            "text/plain": [
              "credit_score       0\n",
              "country            0\n",
              "gender             0\n",
              "age                0\n",
              "years_customer     0\n",
              "balance_euros      0\n",
              "num_products       0\n",
              "has_credit_card    0\n",
              "is_active          0\n",
              "salary_euros       0\n",
              "churn              0\n",
              "dtype: int64"
            ],
            "text/html": [
              "<div>\n",
              "<style scoped>\n",
              "    .dataframe tbody tr th:only-of-type {\n",
              "        vertical-align: middle;\n",
              "    }\n",
              "\n",
              "    .dataframe tbody tr th {\n",
              "        vertical-align: top;\n",
              "    }\n",
              "\n",
              "    .dataframe thead th {\n",
              "        text-align: right;\n",
              "    }\n",
              "</style>\n",
              "<table border=\"1\" class=\"dataframe\">\n",
              "  <thead>\n",
              "    <tr style=\"text-align: right;\">\n",
              "      <th></th>\n",
              "      <th>0</th>\n",
              "    </tr>\n",
              "  </thead>\n",
              "  <tbody>\n",
              "    <tr>\n",
              "      <th>credit_score</th>\n",
              "      <td>0</td>\n",
              "    </tr>\n",
              "    <tr>\n",
              "      <th>country</th>\n",
              "      <td>0</td>\n",
              "    </tr>\n",
              "    <tr>\n",
              "      <th>gender</th>\n",
              "      <td>0</td>\n",
              "    </tr>\n",
              "    <tr>\n",
              "      <th>age</th>\n",
              "      <td>0</td>\n",
              "    </tr>\n",
              "    <tr>\n",
              "      <th>years_customer</th>\n",
              "      <td>0</td>\n",
              "    </tr>\n",
              "    <tr>\n",
              "      <th>balance_euros</th>\n",
              "      <td>0</td>\n",
              "    </tr>\n",
              "    <tr>\n",
              "      <th>num_products</th>\n",
              "      <td>0</td>\n",
              "    </tr>\n",
              "    <tr>\n",
              "      <th>has_credit_card</th>\n",
              "      <td>0</td>\n",
              "    </tr>\n",
              "    <tr>\n",
              "      <th>is_active</th>\n",
              "      <td>0</td>\n",
              "    </tr>\n",
              "    <tr>\n",
              "      <th>salary_euros</th>\n",
              "      <td>0</td>\n",
              "    </tr>\n",
              "    <tr>\n",
              "      <th>churn</th>\n",
              "      <td>0</td>\n",
              "    </tr>\n",
              "  </tbody>\n",
              "</table>\n",
              "</div><br><label><b>dtype:</b> int64</label>"
            ]
          },
          "metadata": {},
          "execution_count": 7
        }
      ]
    },
    {
      "cell_type": "code",
      "source": [
        "# Target distribution\n",
        "plt.figure(figsize=(5,4))\n",
        "sns.countplot(x='churn', data=df_train, palette='Set2')\n",
        "plt.title('Churn Distribution (Train Set)')\n",
        "plt.xlabel('Churn (0=No, 1=Yes)')\n",
        "plt.show()\n",
        "\n",
        "churn_ratio = df_train['churn'].value_counts(normalize=True)\n",
        "print(\"Churn Ratio:\\n\", churn_ratio)"
      ],
      "metadata": {
        "colab": {
          "base_uri": "https://localhost:8080/",
          "height": 497
        },
        "id": "10_dcbXYoTM7",
        "outputId": "b52936b0-cd77-4b2e-dcd3-56617f09550c"
      },
      "id": "10_dcbXYoTM7",
      "execution_count": null,
      "outputs": [
        {
          "output_type": "display_data",
          "data": {
            "text/plain": [
              "<Figure size 500x400 with 1 Axes>"
            ],
            "image/png": "[encoded data removed]"
          },
          "metadata": {}
        },
        {
          "output_type": "stream",
          "name": "stdout",
          "text": [
            "Churn Ratio:\n",
            " churn\n",
            "1    0.5\n",
            "0    0.5\n",
            "Name: proportion, dtype: float64\n"
          ]
        }
      ]
    },
    {
      "cell_type": "markdown",
      "source": [
        "The churn distribution is equal for both the classes which is great for training the dataset to get better results.\n",
        "\n",
        "---"
      ],
      "metadata": {
        "id": "0Si1JEz0-RjC"
      },
      "id": "0Si1JEz0-RjC"
    },
    {
      "cell_type": "code",
      "source": [
        "numerical_features = df_train.select_dtypes(include=np.number).columns.tolist()\n",
        "categorical_features = df_train.select_dtypes(include='object').columns.tolist()\n",
        "\n",
        "print(\"Numerical columns:\", numerical_features)\n",
        "print(\"Categorical columns:\", categorical_features)"
      ],
      "metadata": {
        "colab": {
          "base_uri": "https://localhost:8080/"
        },
        "id": "GjRwM_SQHmwj",
        "outputId": "ab8464d0-5198-4a0a-f2cb-194fd492e402"
      },
      "id": "GjRwM_SQHmwj",
      "execution_count": null,
      "outputs": [
        {
          "output_type": "stream",
          "name": "stdout",
          "text": [
            "Numerical columns: ['credit_score', 'age', 'years_customer', 'balance_euros', 'num_products', 'has_credit_card', 'is_active', 'salary_euros', 'churn']\n",
            "Categorical columns: ['country', 'gender']\n"
          ]
        }
      ]
    },
    {
      "cell_type": "markdown",
      "source": [
        "Identifying numerical & categorical features to know that if any type of pre-processing is needed, which is important for model training and evaluation.\n",
        "\n",
        "---"
      ],
      "metadata": {
        "id": "BxfwXrmBMJoZ"
      },
      "id": "BxfwXrmBMJoZ"
    },
    {
      "cell_type": "markdown",
      "source": [
        "**Visualising numerical features**"
      ],
      "metadata": {
        "id": "RhhW61HRMVu2"
      },
      "id": "RhhW61HRMVu2"
    },
    {
      "cell_type": "code",
      "source": [
        "numerical_cols_for_viz = [col for col in numerical_features if col != 'churn']\n",
        "\n",
        "n_cols = 3\n",
        "n_rows = (len(numerical_cols_for_viz) + n_cols - 1) // n_cols\n",
        "\n",
        "fig, axes = plt.subplots(n_rows, n_cols, figsize=(5 * n_cols, 4 * n_rows))\n",
        "axes = axes.flatten() # Flatten the axes array for easy iteration\n",
        "\n",
        "for i, col in enumerate(numerical_cols_for_viz):\n",
        "    # Plot histogram\n",
        "    sns.histplot(df_train[col], kde=True, ax=axes[i], color='skyblue')\n",
        "    axes[i].set_title(f'Distribution of {col}')\n",
        "    axes[i].set_xlabel(col)\n",
        "    axes[i].set_ylabel('Frequency')\n",
        "    axes[i].grid(True, alpha=0.3)\n",
        "\n",
        "# Hide any unused subplots\n",
        "for j in range(i + 1, len(axes)):\n",
        "    fig.delaxes(axes[j])\n",
        "\n",
        "plt.tight_layout()\n",
        "plt.show()"
      ],
      "metadata": {
        "colab": {
          "base_uri": "https://localhost:8080/",
          "height": 1000
        },
        "id": "klRTbroOH8SL",
        "outputId": "df1d0cbc-33b5-486e-ef8a-f8f75fc3fc9b"
      },
      "id": "klRTbroOH8SL",
      "execution_count": null,
      "outputs": [
        {
          "output_type": "display_data",
          "data": {
            "text/plain": [
              "<Figure size 1500x1200 with 8 Axes>"
            ],
            "image/png": "[encoded data removed]"
          },
          "metadata": {}
        }
      ]
    },
    {
      "cell_type": "markdown",
      "source": [
        "\n",
        "\n",
        "Here the histograms plots for numerical columns shows something about the shape of each variable's distribution. It points out whether the data follows a normal, skewed, or multimodal distribution.\n",
        "\n",
        "As we can see, \"age\" has a right-skewed pattern, whereas \"balance_euros\" has a bimodal distribution. This helps us to identify that wheather any kind of transformation is required or not.\n",
        "\n",
        "---"
      ],
      "metadata": {
        "id": "40aS4VHP09iF"
      },
      "id": "40aS4VHP09iF"
    },
    {
      "cell_type": "code",
      "source": [
        "plt.figure(figsize=(10,8))\n",
        "numeric_df = df_train.select_dtypes(include=np.number)\n",
        "sns.heatmap(numeric_df.corr(), annot=True, cmap='coolwarm', center=0)\n",
        "plt.title('Feature Correlation Matrix')\n",
        "plt.show()"
      ],
      "metadata": {
        "colab": {
          "base_uri": "https://localhost:8080/",
          "height": 795
        },
        "id": "dVjp2cCRQvyi",
        "outputId": "ae2a68b2-cde0-4efb-8c31-3480f50412c2"
      },
      "id": "dVjp2cCRQvyi",
      "execution_count": null,
      "outputs": [
        {
          "output_type": "display_data",
          "data": {
            "text/plain": [
              "<Figure size 1000x800 with 2 Axes>"
            ],
            "image/png": "[encoded data removed]"
          },
          "metadata": {}
        }
      ]
    },
    {
      "cell_type": "markdown",
      "source": [
        "Feature corelation matrix is created to understand the relationship between features/varibales. It helps to identify features that contributes more in churn predicttion.\n",
        "\n",
        "In this map we can see that “Churn” is highly correlated with features like “Age” and “Balanced_euros”. They show a positive correlattion which suggests that the older customers and the customers with higher bank balance are more likely to leave (chrun).\n",
        "\n",
        "---"
      ],
      "metadata": {
        "id": "KD0mqUrW_is1"
      },
      "id": "KD0mqUrW_is1"
    },
    {
      "cell_type": "markdown",
      "source": [
        "# **Data Cleaning & Preprocessing**"
      ],
      "metadata": {
        "id": "Rt46K5xXQy-I"
      },
      "id": "Rt46K5xXQy-I"
    },
    {
      "cell_type": "code",
      "source": [
        "df_train = df_train.drop('country', axis=1)\n",
        "df_test = df_test.drop('country', axis=1)"
      ],
      "metadata": {
        "id": "SImiVCy9Q4Lt"
      },
      "id": "SImiVCy9Q4Lt",
      "execution_count": null,
      "outputs": []
    },
    {
      "cell_type": "markdown",
      "source": [
        "Dropping country coloumn because it does not play any predictive power."
      ],
      "metadata": {
        "id": "6f5MGdRd_7Z1"
      },
      "id": "6f5MGdRd_7Z1"
    },
    {
      "cell_type": "code",
      "source": [
        "df_train['gender'] = df_train['gender'].replace({'f': 0, 'm': 1})\n",
        "df_test['gender'] = df_test['gender'].replace({'f': 0, 'm': 1})"
      ],
      "metadata": {
        "id": "gypqtVxZl-gA"
      },
      "id": "gypqtVxZl-gA",
      "execution_count": null,
      "outputs": []
    },
    {
      "cell_type": "markdown",
      "source": [
        "Converting the gender values to numerical values for preprocessing and training of the dataset."
      ],
      "metadata": {
        "id": "HuqkJ_Ep_-gA"
      },
      "id": "HuqkJ_Ep_-gA"
    },
    {
      "cell_type": "markdown",
      "source": [
        "**Outlier detection**"
      ],
      "metadata": {
        "id": "OZtuj46h2S5i"
      },
      "id": "OZtuj46h2S5i"
    },
    {
      "cell_type": "code",
      "source": [
        "#Finding outliers for testing set:\n",
        "numerical_columns = df_train.select_dtypes(include=np.number).columns\n",
        "\n",
        "first_quartlie_Q1 = df_train[numerical_columns].quantile(0.25)\n",
        "third_quartile_Q3 = df_train[numerical_columns].quantile(0.75)\n",
        "inter_quartile_range_IQR = third_quartile_Q3 - first_quartlie_Q1\n",
        "\n",
        "outliers = ((df_train[numerical_columns] < (first_quartlie_Q1 - 1.5 * inter_quartile_range_IQR )) |\n",
        "            (df_train[numerical_columns] > (third_quartile_Q3 + 1.5 * inter_quartile_range_IQR )))\n",
        "\n",
        "print(outliers.sum())\n",
        "\n",
        "#Finding outliers for testing set:\n",
        "numerical_columns = df_test.select_dtypes(include=np.number).columns\n",
        "\n",
        "first_quartlie_Q1 = df_test[numerical_columns].quantile(0.25)\n",
        "third_quartile_Q3 = df_test[numerical_columns].quantile(0.75)\n",
        "inter_quartile_range_IQR = third_quartile_Q3 - first_quartlie_Q1\n",
        "\n",
        "outliers = ((df_test[numerical_columns] < (first_quartlie_Q1 - 1.5 * inter_quartile_range_IQR )) |\n",
        "            (df_test[numerical_columns] > (third_quartile_Q3 + 1.5 * inter_quartile_range_IQR )))"
      ],
      "metadata": {
        "colab": {
          "base_uri": "https://localhost:8080/"
        },
        "id": "Fc7ASfeOmCCS",
        "outputId": "5a3104bf-a41a-4748-9a59-d68e52bce3b0"
      },
      "id": "Fc7ASfeOmCCS",
      "execution_count": null,
      "outputs": [
        {
          "output_type": "stream",
          "name": "stdout",
          "text": [
            "credit_score        3\n",
            "gender              0\n",
            "age                 9\n",
            "years_customer      0\n",
            "balance_euros       0\n",
            "num_products       11\n",
            "has_credit_card     0\n",
            "is_active           0\n",
            "salary_euros        0\n",
            "churn               0\n",
            "dtype: int64\n"
          ]
        }
      ]
    },
    {
      "cell_type": "markdown",
      "source": [
        "Outlier detection with the **Interquartile Range (IQR)** method detects the number of outlier values in each numerical features. Their identification is crucial as outliers cause scaling distortion, bias model training, and decrease stability.\n",
        "\n",
        "\n",
        "In the case of quantum models, the step is even more important because feature encoding necessitates bounded ranges, and extreme values can misrepresent states of data.Thus removing or performing aggressive scaling to treat the outliers before training the model is very important."
      ],
      "metadata": {
        "id": "0Btnz7uAAJsp"
      },
      "id": "0Btnz7uAAJsp"
    },
    {
      "cell_type": "code",
      "source": [
        "outliers_columns = ['credit_score', 'age', 'num_products']\n",
        "\n",
        "plt.figure(figsize=(10, 6))\n",
        "for i, column in enumerate(outliers_columns, 1):\n",
        "    plt.subplot(2, 3, i)\n",
        "    sns.boxplot(df_train[column])\n",
        "    plt.title(f'Box Plot for {column}')\n",
        "plt.tight_layout()\n",
        "plt.show()"
      ],
      "metadata": {
        "colab": {
          "base_uri": "https://localhost:8080/",
          "height": 328
        },
        "id": "tx6NS1Sj93nI",
        "outputId": "2f98a345-b8a1-47de-b293-81eb050fcb4f"
      },
      "id": "tx6NS1Sj93nI",
      "execution_count": null,
      "outputs": [
        {
          "output_type": "display_data",
          "data": {
            "text/plain": [
              "<Figure size 1000x600 with 3 Axes>"
            ],
            "image/png": "[encoded data removed]"
          },
          "metadata": {}
        }
      ]
    },
    {
      "cell_type": "markdown",
      "source": [
        "Visualising the outliers:\n",
        "\n",
        "- Middle line is the `median`.\n",
        "\n",
        "- `Box edges` = 25th and 75th percentiles (interquartile range).\n",
        "\n",
        "- `Whiskers` shows the spread of most data.\n",
        "\n",
        "- Dots beyond whiskers are knowns as `outliers`."
      ],
      "metadata": {
        "id": "O687fvmWJ-ZQ"
      },
      "id": "O687fvmWJ-ZQ"
    },
    {
      "cell_type": "markdown",
      "source": [
        "# **Feature and Target Selection**"
      ],
      "metadata": {
        "id": "vZ1lulnxRE6U"
      },
      "id": "vZ1lulnxRE6U"
    },
    {
      "cell_type": "code",
      "source": [
        "x_train = df_train.drop(['churn'], axis=1)\n",
        "y_train = df_train['churn']\n",
        "\n",
        "x_test = df_test.drop(['churn'], axis=1)\n",
        "y_test = df_test['churn']\n",
        "\n",
        "print(\"shape of x_train:\", x_train.shape)\n",
        "print(\"shape of y_train:\", y_train.shape)\n",
        "print(\"shape of x_test:\", x_test.shape)\n",
        "print(\"shape of y_test:\", y_test.shape)"
      ],
      "metadata": {
        "colab": {
          "base_uri": "https://localhost:8080/"
        },
        "id": "Jfp1-UE_mEfu",
        "outputId": "ffdd6f6d-bfd0-400c-b33c-1602c8a2ec00"
      },
      "id": "Jfp1-UE_mEfu",
      "execution_count": null,
      "outputs": [
        {
          "output_type": "stream",
          "name": "stdout",
          "text": [
            "shape of x_train: (800, 9)\n",
            "shape of y_train: (800,)\n",
            "shape of x_test: (200, 9)\n",
            "shape of y_test: (200,)\n"
          ]
        }
      ]
    },
    {
      "cell_type": "markdown",
      "source": [
        "Here, the dataset is divided into **features (x)** and the **target (y)**.  \n",
        "- Features include customer details like age, credit score, balance, etc.  \n",
        "- Target is the \"churn\" column, indicating if a customer will leave or stay.  \n",
        "\n",
        "This separation is essential for supervised learning, allowing models to learn patterns from inputs (X) to predict the output (y).\n"
      ],
      "metadata": {
        "id": "JveOtXfFW_2V"
      },
      "id": "JveOtXfFW_2V"
    },
    {
      "cell_type": "code",
      "source": [
        "scaler = MinMaxScaler()\n",
        "x_train_scaled = scaler.fit_transform(x_train)\n",
        "x_test_scaled = scaler.transform(x_test)\n",
        "\n",
        "# Convert back to DataFrame for readability\n",
        "x_train_scaled_df = pd.DataFrame(x_train_scaled, columns=x_train.columns)\n",
        "x_test_scaled_df = pd.DataFrame(x_test_scaled, columns=x_test.columns)\n",
        "\n",
        "print(\"After Scaling:\")\n",
        "print(x_train_scaled_df.head())"
      ],
      "metadata": {
        "colab": {
          "base_uri": "https://localhost:8080/"
        },
        "id": "mTHJ4jldmLWJ",
        "outputId": "b2073be7-85d9-47e5-b124-e80018f08d98"
      },
      "id": "mTHJ4jldmLWJ",
      "execution_count": null,
      "outputs": [
        {
          "output_type": "stream",
          "name": "stdout",
          "text": [
            "After Scaling:\n",
            "   credit_score  gender       age  years_customer  balance_euros  \\\n",
            "0         0.426     0.0  0.229730             0.2       0.897619   \n",
            "1         0.630     1.0  0.270270             0.9       0.000000   \n",
            "2         0.158     1.0  0.081081             0.4       0.468150   \n",
            "3         0.700     1.0  0.270270             0.9       0.322538   \n",
            "4         0.706     1.0  0.513514             0.9       0.000000   \n",
            "\n",
            "   num_products  has_credit_card  is_active  salary_euros  \n",
            "0           0.0              1.0        1.0      0.329938  \n",
            "1           0.0              0.0        1.0      0.437137  \n",
            "2           0.0              1.0        0.0      0.230602  \n",
            "3           0.0              1.0        1.0      0.504932  \n",
            "4           0.0              0.0        0.0      0.427795  \n"
          ]
        }
      ]
    },
    {
      "cell_type": "markdown",
      "source": [
        "Every feature is normalized to the range [0,1] with **MinMaxScaler**.\n",
        "This ensures that variables with large ranges (like - balance) do not dominate smaller ones (like - age).\n",
        "\n",
        "Scaling enhances model performance and is critical for quantum models, in which inputs need to be translated to bounded quantum states."
      ],
      "metadata": {
        "id": "Srmz2xBxewze"
      },
      "id": "Srmz2xBxewze"
    },
    {
      "cell_type": "markdown",
      "source": [
        "# **Classical Models**"
      ],
      "metadata": {
        "id": "3-3iDmn12yQk"
      },
      "id": "3-3iDmn12yQk"
    },
    {
      "cell_type": "code",
      "source": [
        "rf = RandomForestClassifier(random_state=42)\n",
        "rf.fit(x_train, y_train)"
      ],
      "metadata": {
        "colab": {
          "base_uri": "https://localhost:8080/",
          "height": 80
        },
        "id": "Kv4k58OQD9Uz",
        "outputId": "c880b228-30a7-49f9-8c46-300a2da93f60"
      },
      "id": "Kv4k58OQD9Uz",
      "execution_count": null,
      "outputs": [
        {
          "output_type": "execute_result",
          "data": {
            "text/plain": [
              "RandomForestClassifier(random_state=42)"
            ],
            "text/html": [
              "<style>#sk-container-id-1 {\n",
              "  /* Definition of color scheme common for light and dark mode */\n",
              "  --sklearn-color-text: #000;\n",
              "  --sklearn-color-text-muted: #666;\n",
              "  --sklearn-color-line: gray;\n",
              "  /* Definition of color scheme for unfitted estimators */\n",
              "  --sklearn-color-unfitted-level-0: #fff5e6;\n",
              "  --sklearn-color-unfitted-level-1: #f6e4d2;\n",
              "  --sklearn-color-unfitted-level-2: #ffe0b3;\n",
              "  --sklearn-color-unfitted-level-3: chocolate;\n",
              "  /* Definition of color scheme for fitted estimators */\n",
              "  --sklearn-color-fitted-level-0: #f0f8ff;\n",
              "  --sklearn-color-fitted-level-1: #d4ebff;\n",
              "  --sklearn-color-fitted-level-2: #b3dbfd;\n",
              "  --sklearn-color-fitted-level-3: cornflowerblue;\n",
              "\n",
              "  /* Specific color for light theme */\n",
              "  --sklearn-color-text-on-default-background: var(--sg-text-color, var(--theme-code-foreground, var(--jp-content-font-color1, black)));\n",
              "  --sklearn-color-background: var(--sg-background-color, var(--theme-background, var(--jp-layout-color0, white)));\n",
              "  --sklearn-color-border-box: var(--sg-text-color, var(--theme-code-foreground, var(--jp-content-font-color1, black)));\n",
              "  --sklearn-color-icon: #696969;\n",
              "\n",
              "  @media (prefers-color-scheme: dark) {\n",
              "    /* Redefinition of color scheme for dark theme */\n",
              "    --sklearn-color-text-on-default-background: var(--sg-text-color, var(--theme-code-foreground, var(--jp-content-font-color1, white)));\n",
              "    --sklearn-color-background: var(--sg-background-color, var(--theme-background, var(--jp-layout-color0, #111)));\n",
              "    --sklearn-color-border-box: var(--sg-text-color, var(--theme-code-foreground, var(--jp-content-font-color1, white)));\n",
              "    --sklearn-color-icon: #878787;\n",
              "  }\n",
              "}\n",
              "\n",
              "#sk-container-id-1 {\n",
              "  color: var(--sklearn-color-text);\n",
              "}\n",
              "\n",
              "#sk-container-id-1 pre {\n",
              "  padding: 0;\n",
              "}\n",
              "\n",
              "#sk-container-id-1 input.sk-hidden--visually {\n",
              "  border: 0;\n",
              "  clip: rect(1px 1px 1px 1px);\n",
              "  clip: rect(1px, 1px, 1px, 1px);\n",
              "  height: 1px;\n",
              "  margin: -1px;\n",
              "  overflow: hidden;\n",
              "  padding: 0;\n",
              "  position: absolute;\n",
              "  width: 1px;\n",
              "}\n",
              "\n",
              "#sk-container-id-1 div.sk-dashed-wrapped {\n",
              "  border: 1px dashed var(--sklearn-color-line);\n",
              "  margin: 0 0.4em 0.5em 0.4em;\n",
              "  box-sizing: border-box;\n",
              "  padding-bottom: 0.4em;\n",
              "  background-color: var(--sklearn-color-background);\n",
              "}\n",
              "\n",
              "#sk-container-id-1 div.sk-container {\n",
              "  /* jupyter's `normalize.less` sets `[hidden] { display: none; }`\n",
              "     but bootstrap.min.css set `[hidden] { display: none !important; }`\n",
              "     so we also need the `!important` here to be able to override the\n",
              "     default hidden behavior on the sphinx rendered scikit-learn.org.\n",
              "     See: https://github.com/scikit-learn/scikit-learn/issues/21755 */\n",
              "  display: inline-block !important;\n",
              "  position: relative;\n",
              "}\n",
              "\n",
              "#sk-container-id-1 div.sk-text-repr-fallback {\n",
              "  display: none;\n",
              "}\n",
              "\n",
              "div.sk-parallel-item,\n",
              "div.sk-serial,\n",
              "div.sk-item {\n",
              "  /* draw centered vertical line to link estimators */\n",
              "  background-image: linear-gradient(var(--sklearn-color-text-on-default-background), var(--sklearn-color-text-on-default-background));\n",
              "  background-size: 2px 100%;\n",
              "  background-repeat: no-repeat;\n",
              "  background-position: center center;\n",
              "}\n",
              "\n",
              "/* Parallel-specific style estimator block */\n",
              "\n",
              "#sk-container-id-1 div.sk-parallel-item::after {\n",
              "  content: \"\";\n",
              "  width: 100%;\n",
              "  border-bottom: 2px solid var(--sklearn-color-text-on-default-background);\n",
              "  flex-grow: 1;\n",
              "}\n",
              "\n",
              "#sk-container-id-1 div.sk-parallel {\n",
              "  display: flex;\n",
              "  align-items: stretch;\n",
              "  justify-content: center;\n",
              "  background-color: var(--sklearn-color-background);\n",
              "  position: relative;\n",
              "}\n",
              "\n",
              "#sk-container-id-1 div.sk-parallel-item {\n",
              "  display: flex;\n",
              "  flex-direction: column;\n",
              "}\n",
              "\n",
              "#sk-container-id-1 div.sk-parallel-item:first-child::after {\n",
              "  align-self: flex-end;\n",
              "  width: 50%;\n",
              "}\n",
              "\n",
              "#sk-container-id-1 div.sk-parallel-item:last-child::after {\n",
              "  align-self: flex-start;\n",
              "  width: 50%;\n",
              "}\n",
              "\n",
              "#sk-container-id-1 div.sk-parallel-item:only-child::after {\n",
              "  width: 0;\n",
              "}\n",
              "\n",
              "/* Serial-specific style estimator block */\n",
              "\n",
              "#sk-container-id-1 div.sk-serial {\n",
              "  display: flex;\n",
              "  flex-direction: column;\n",
              "  align-items: center;\n",
              "  background-color: var(--sklearn-color-background);\n",
              "  padding-right: 1em;\n",
              "  padding-left: 1em;\n",
              "}\n",
              "\n",
              "\n",
              "/* Toggleable style: style used for estimator/Pipeline/ColumnTransformer box that is\n",
              "clickable and can be expanded/collapsed.\n",
              "- Pipeline and ColumnTransformer use this feature and define the default style\n",
              "- Estimators will overwrite some part of the style using the `sk-estimator` class\n",
              "*/\n",
              "\n",
              "/* Pipeline and ColumnTransformer style (default) */\n",
              "\n",
              "#sk-container-id-1 div.sk-toggleable {\n",
              "  /* Default theme specific background. It is overwritten whether we have a\n",
              "  specific estimator or a Pipeline/ColumnTransformer */\n",
              "  background-color: var(--sklearn-color-background);\n",
              "}\n",
              "\n",
              "/* Toggleable label */\n",
              "#sk-container-id-1 label.sk-toggleable__label {\n",
              "  cursor: pointer;\n",
              "  display: flex;\n",
              "  width: 100%;\n",
              "  margin-bottom: 0;\n",
              "  padding: 0.5em;\n",
              "  box-sizing: border-box;\n",
              "  text-align: center;\n",
              "  align-items: start;\n",
              "  justify-content: space-between;\n",
              "  gap: 0.5em;\n",
              "}\n",
              "\n",
              "#sk-container-id-1 label.sk-toggleable__label .caption {\n",
              "  font-size: 0.6rem;\n",
              "  font-weight: lighter;\n",
              "  color: var(--sklearn-color-text-muted);\n",
              "}\n",
              "\n",
              "#sk-container-id-1 label.sk-toggleable__label-arrow:before {\n",
              "  /* Arrow on the left of the label */\n",
              "  content: \"▸\";\n",
              "  float: left;\n",
              "  margin-right: 0.25em;\n",
              "  color: var(--sklearn-color-icon);\n",
              "}\n",
              "\n",
              "#sk-container-id-1 label.sk-toggleable__label-arrow:hover:before {\n",
              "  color: var(--sklearn-color-text);\n",
              "}\n",
              "\n",
              "/* Toggleable content - dropdown */\n",
              "\n",
              "#sk-container-id-1 div.sk-toggleable__content {\n",
              "  max-height: 0;\n",
              "  max-width: 0;\n",
              "  overflow: hidden;\n",
              "  text-align: left;\n",
              "  /* unfitted */\n",
              "  background-color: var(--sklearn-color-unfitted-level-0);\n",
              "}\n",
              "\n",
              "#sk-container-id-1 div.sk-toggleable__content.fitted {\n",
              "  /* fitted */\n",
              "  background-color: var(--sklearn-color-fitted-level-0);\n",
              "}\n",
              "\n",
              "#sk-container-id-1 div.sk-toggleable__content pre {\n",
              "  margin: 0.2em;\n",
              "  border-radius: 0.25em;\n",
              "  color: var(--sklearn-color-text);\n",
              "  /* unfitted */\n",
              "  background-color: var(--sklearn-color-unfitted-level-0);\n",
              "}\n",
              "\n",
              "#sk-container-id-1 div.sk-toggleable__content.fitted pre {\n",
              "  /* unfitted */\n",
              "  background-color: var(--sklearn-color-fitted-level-0);\n",
              "}\n",
              "\n",
              "#sk-container-id-1 input.sk-toggleable__control:checked~div.sk-toggleable__content {\n",
              "  /* Expand drop-down */\n",
              "  max-height: 200px;\n",
              "  max-width: 100%;\n",
              "  overflow: auto;\n",
              "}\n",
              "\n",
              "#sk-container-id-1 input.sk-toggleable__control:checked~label.sk-toggleable__label-arrow:before {\n",
              "  content: \"▾\";\n",
              "}\n",
              "\n",
              "/* Pipeline/ColumnTransformer-specific style */\n",
              "\n",
              "#sk-container-id-1 div.sk-label input.sk-toggleable__control:checked~label.sk-toggleable__label {\n",
              "  color: var(--sklearn-color-text);\n",
              "  background-color: var(--sklearn-color-unfitted-level-2);\n",
              "}\n",
              "\n",
              "#sk-container-id-1 div.sk-label.fitted input.sk-toggleable__control:checked~label.sk-toggleable__label {\n",
              "  background-color: var(--sklearn-color-fitted-level-2);\n",
              "}\n",
              "\n",
              "/* Estimator-specific style */\n",
              "\n",
              "/* Colorize estimator box */\n",
              "#sk-container-id-1 div.sk-estimator input.sk-toggleable__control:checked~label.sk-toggleable__label {\n",
              "  /* unfitted */\n",
              "  background-color: var(--sklearn-color-unfitted-level-2);\n",
              "}\n",
              "\n",
              "#sk-container-id-1 div.sk-estimator.fitted input.sk-toggleable__control:checked~label.sk-toggleable__label {\n",
              "  /* fitted */\n",
              "  background-color: var(--sklearn-color-fitted-level-2);\n",
              "}\n",
              "\n",
              "#sk-container-id-1 div.sk-label label.sk-toggleable__label,\n",
              "#sk-container-id-1 div.sk-label label {\n",
              "  /* The background is the default theme color */\n",
              "  color: var(--sklearn-color-text-on-default-background);\n",
              "}\n",
              "\n",
              "/* On hover, darken the color of the background */\n",
              "#sk-container-id-1 div.sk-label:hover label.sk-toggleable__label {\n",
              "  color: var(--sklearn-color-text);\n",
              "  background-color: var(--sklearn-color-unfitted-level-2);\n",
              "}\n",
              "\n",
              "/* Label box, darken color on hover, fitted */\n",
              "#sk-container-id-1 div.sk-label.fitted:hover label.sk-toggleable__label.fitted {\n",
              "  color: var(--sklearn-color-text);\n",
              "  background-color: var(--sklearn-color-fitted-level-2);\n",
              "}\n",
              "\n",
              "/* Estimator label */\n",
              "\n",
              "#sk-container-id-1 div.sk-label label {\n",
              "  font-family: monospace;\n",
              "  font-weight: bold;\n",
              "  display: inline-block;\n",
              "  line-height: 1.2em;\n",
              "}\n",
              "\n",
              "#sk-container-id-1 div.sk-label-container {\n",
              "  text-align: center;\n",
              "}\n",
              "\n",
              "/* Estimator-specific */\n",
              "#sk-container-id-1 div.sk-estimator {\n",
              "  font-family: monospace;\n",
              "  border: 1px dotted var(--sklearn-color-border-box);\n",
              "  border-radius: 0.25em;\n",
              "  box-sizing: border-box;\n",
              "  margin-bottom: 0.5em;\n",
              "  /* unfitted */\n",
              "  background-color: var(--sklearn-color-unfitted-level-0);\n",
              "}\n",
              "\n",
              "#sk-container-id-1 div.sk-estimator.fitted {\n",
              "  /* fitted */\n",
              "  background-color: var(--sklearn-color-fitted-level-0);\n",
              "}\n",
              "\n",
              "/* on hover */\n",
              "#sk-container-id-1 div.sk-estimator:hover {\n",
              "  /* unfitted */\n",
              "  background-color: var(--sklearn-color-unfitted-level-2);\n",
              "}\n",
              "\n",
              "#sk-container-id-1 div.sk-estimator.fitted:hover {\n",
              "  /* fitted */\n",
              "  background-color: var(--sklearn-color-fitted-level-2);\n",
              "}\n",
              "\n",
              "/* Specification for estimator info (e.g. \"i\" and \"?\") */\n",
              "\n",
              "/* Common style for \"i\" and \"?\" */\n",
              "\n",
              ".sk-estimator-doc-link,\n",
              "a:link.sk-estimator-doc-link,\n",
              "a:visited.sk-estimator-doc-link {\n",
              "  float: right;\n",
              "  font-size: smaller;\n",
              "  line-height: 1em;\n",
              "  font-family: monospace;\n",
              "  background-color: var(--sklearn-color-background);\n",
              "  border-radius: 1em;\n",
              "  height: 1em;\n",
              "  width: 1em;\n",
              "  text-decoration: none !important;\n",
              "  margin-left: 0.5em;\n",
              "  text-align: center;\n",
              "  /* unfitted */\n",
              "  border: var(--sklearn-color-unfitted-level-1) 1pt solid;\n",
              "  color: var(--sklearn-color-unfitted-level-1);\n",
              "}\n",
              "\n",
              ".sk-estimator-doc-link.fitted,\n",
              "a:link.sk-estimator-doc-link.fitted,\n",
              "a:visited.sk-estimator-doc-link.fitted {\n",
              "  /* fitted */\n",
              "  border: var(--sklearn-color-fitted-level-1) 1pt solid;\n",
              "  color: var(--sklearn-color-fitted-level-1);\n",
              "}\n",
              "\n",
              "/* On hover */\n",
              "div.sk-estimator:hover .sk-estimator-doc-link:hover,\n",
              ".sk-estimator-doc-link:hover,\n",
              "div.sk-label-container:hover .sk-estimator-doc-link:hover,\n",
              ".sk-estimator-doc-link:hover {\n",
              "  /* unfitted */\n",
              "  background-color: var(--sklearn-color-unfitted-level-3);\n",
              "  color: var(--sklearn-color-background);\n",
              "  text-decoration: none;\n",
              "}\n",
              "\n",
              "div.sk-estimator.fitted:hover .sk-estimator-doc-link.fitted:hover,\n",
              ".sk-estimator-doc-link.fitted:hover,\n",
              "div.sk-label-container:hover .sk-estimator-doc-link.fitted:hover,\n",
              ".sk-estimator-doc-link.fitted:hover {\n",
              "  /* fitted */\n",
              "  background-color: var(--sklearn-color-fitted-level-3);\n",
              "  color: var(--sklearn-color-background);\n",
              "  text-decoration: none;\n",
              "}\n",
              "\n",
              "/* Span, style for the box shown on hovering the info icon */\n",
              ".sk-estimator-doc-link span {\n",
              "  display: none;\n",
              "  z-index: 9999;\n",
              "  position: relative;\n",
              "  font-weight: normal;\n",
              "  right: .2ex;\n",
              "  padding: .5ex;\n",
              "  margin: .5ex;\n",
              "  width: min-content;\n",
              "  min-width: 20ex;\n",
              "  max-width: 50ex;\n",
              "  color: var(--sklearn-color-text);\n",
              "  box-shadow: 2pt 2pt 4pt #999;\n",
              "  /* unfitted */\n",
              "  background: var(--sklearn-color-unfitted-level-0);\n",
              "  border: .5pt solid var(--sklearn-color-unfitted-level-3);\n",
              "}\n",
              "\n",
              ".sk-estimator-doc-link.fitted span {\n",
              "  /* fitted */\n",
              "  background: var(--sklearn-color-fitted-level-0);\n",
              "  border: var(--sklearn-color-fitted-level-3);\n",
              "}\n",
              "\n",
              ".sk-estimator-doc-link:hover span {\n",
              "  display: block;\n",
              "}\n",
              "\n",
              "/* \"?\"-specific style due to the `<a>` HTML tag */\n",
              "\n",
              "#sk-container-id-1 a.estimator_doc_link {\n",
              "  float: right;\n",
              "  font-size: 1rem;\n",
              "  line-height: 1em;\n",
              "  font-family: monospace;\n",
              "  background-color: var(--sklearn-color-background);\n",
              "  border-radius: 1rem;\n",
              "  height: 1rem;\n",
              "  width: 1rem;\n",
              "  text-decoration: none;\n",
              "  /* unfitted */\n",
              "  color: var(--sklearn-color-unfitted-level-1);\n",
              "  border: var(--sklearn-color-unfitted-level-1) 1pt solid;\n",
              "}\n",
              "\n",
              "#sk-container-id-1 a.estimator_doc_link.fitted {\n",
              "  /* fitted */\n",
              "  border: var(--sklearn-color-fitted-level-1) 1pt solid;\n",
              "  color: var(--sklearn-color-fitted-level-1);\n",
              "}\n",
              "\n",
              "/* On hover */\n",
              "#sk-container-id-1 a.estimator_doc_link:hover {\n",
              "  /* unfitted */\n",
              "  background-color: var(--sklearn-color-unfitted-level-3);\n",
              "  color: var(--sklearn-color-background);\n",
              "  text-decoration: none;\n",
              "}\n",
              "\n",
              "#sk-container-id-1 a.estimator_doc_link.fitted:hover {\n",
              "  /* fitted */\n",
              "  background-color: var(--sklearn-color-fitted-level-3);\n",
              "}\n",
              "</style><div id=\"sk-container-id-1\" class=\"sk-top-container\"><div class=\"sk-text-repr-fallback\"><pre>RandomForestClassifier(random_state=42)</pre><b>In a Jupyter environment, please rerun this cell to show the HTML representation or trust the notebook. <br />On GitHub, the HTML representation is unable to render, please try loading this page with nbviewer.org.</b></div><div class=\"sk-container\" hidden><div class=\"sk-item\"><div class=\"sk-estimator fitted sk-toggleable\"><input class=\"sk-toggleable__control sk-hidden--visually\" id=\"sk-estimator-id-1\" type=\"checkbox\" checked><label for=\"sk-estimator-id-1\" class=\"sk-toggleable__label fitted sk-toggleable__label-arrow\"><div><div>RandomForestClassifier</div></div><div><a class=\"sk-estimator-doc-link fitted\" rel=\"noreferrer\" target=\"_blank\" href=\"https://scikit-learn.org/1.6/modules/generated/sklearn.ensemble.RandomForestClassifier.html\">?<span>Documentation for RandomForestClassifier</span></a><span class=\"sk-estimator-doc-link fitted\">i<span>Fitted</span></span></div></label><div class=\"sk-toggleable__content fitted\"><pre>RandomForestClassifier(random_state=42)</pre></div> </div></div></div></div>"
            ]
          },
          "metadata": {},
          "execution_count": 18
        }
      ]
    },
    {
      "cell_type": "code",
      "source": [
        "rf_param = {'n_estimators': [100, 200, 300], 'max_depth': [10,20,30, None],'min_samples_split': [2, 5, 10]}\n",
        "\n",
        "print(f\"Tuning and Evaluating for {rf}...\")\n",
        "\n",
        "rf_grid_search = GridSearchCV(estimator=rf, param_grid = rf_param, cv=5,)\n",
        "\n",
        "rf_grid_search.fit(x_train, y_train)\n",
        "\n",
        "best_rf = rf_grid_search.best_estimator_\n",
        "print(f\"Best Parameters for rf: {best_rf} \\n\")\n",
        "\n",
        "y_pred_rf = best_rf.predict(x_test)   # RF doesn't care about scaling\n",
        "\n",
        "accuracy = accuracy_score(y_test, y_pred_rf)\n",
        "class_report = classification_report(y_test, y_pred_rf)\n",
        "cm = confusion_matrix(y_test, y_pred_rf)\n",
        "\n",
        "print(f\"Accuracy: {accuracy}\")\n",
        "print(f\"Classification Report:\\n{class_report}\")\n",
        "\n",
        "plt.figure(figsize=(6, 4))\n",
        "sns.heatmap(cm, annot=True, fmt=\"d\", cmap=\"Purples\")\n",
        "plt.title(f\"Confusion Matrix: RandomForest\")\n",
        "plt.xlabel(\"Predicted Label\")\n",
        "plt.ylabel(\"True Label\")\n",
        "plt.show()"
      ],
      "metadata": {
        "colab": {
          "base_uri": "https://localhost:8080/",
          "height": 670
        },
        "id": "W1LLYChFMibI",
        "outputId": "f32a673f-91d1-4b47-e6e4-5aa14eb9e728"
      },
      "id": "W1LLYChFMibI",
      "execution_count": null,
      "outputs": [
        {
          "output_type": "stream",
          "name": "stdout",
          "text": [
            "Tuning and Evaluating for RandomForestClassifier(random_state=42)...\n",
            "Best Parameters for rf: RandomForestClassifier(max_depth=20, min_samples_split=10, n_estimators=200,\n",
            "                       random_state=42) \n",
            "\n",
            "Accuracy: 0.735\n",
            "Classification Report:\n",
            "              precision    recall  f1-score   support\n",
            "\n",
            "           0       0.71      0.79      0.75       100\n",
            "           1       0.76      0.68      0.72       100\n",
            "\n",
            "    accuracy                           0.73       200\n",
            "   macro avg       0.74      0.74      0.73       200\n",
            "weighted avg       0.74      0.73      0.73       200\n",
            "\n"
          ]
        },
        {
          "output_type": "display_data",
          "data": {
            "text/plain": [
              "<Figure size 600x400 with 2 Axes>"
            ],
            "image/png": "[encoded data removed]"
          },
          "metadata": {}
        }
      ]
    },
    {
      "cell_type": "code",
      "source": [
        "gb = GradientBoostingClassifier(random_state=42)\n",
        "gb.fit(x_train, y_train)"
      ],
      "metadata": {
        "colab": {
          "base_uri": "https://localhost:8080/",
          "height": 80
        },
        "id": "-GEbQJZYNTW6",
        "outputId": "20641bb4-f10c-47ee-b5b5-ccb950d31531"
      },
      "id": "-GEbQJZYNTW6",
      "execution_count": null,
      "outputs": [
        {
          "output_type": "execute_result",
          "data": {
            "text/plain": [
              "GradientBoostingClassifier(random_state=42)"
            ],
            "text/html": [
              "<style>#sk-container-id-3 {\n",
              "  /* Definition of color scheme common for light and dark mode */\n",
              "  --sklearn-color-text: #000;\n",
              "  --sklearn-color-text-muted: #666;\n",
              "  --sklearn-color-line: gray;\n",
              "  /* Definition of color scheme for unfitted estimators */\n",
              "  --sklearn-color-unfitted-level-0: #fff5e6;\n",
              "  --sklearn-color-unfitted-level-1: #f6e4d2;\n",
              "  --sklearn-color-unfitted-level-2: #ffe0b3;\n",
              "  --sklearn-color-unfitted-level-3: chocolate;\n",
              "  /* Definition of color scheme for fitted estimators */\n",
              "  --sklearn-color-fitted-level-0: #f0f8ff;\n",
              "  --sklearn-color-fitted-level-1: #d4ebff;\n",
              "  --sklearn-color-fitted-level-2: #b3dbfd;\n",
              "  --sklearn-color-fitted-level-3: cornflowerblue;\n",
              "\n",
              "  /* Specific color for light theme */\n",
              "  --sklearn-color-text-on-default-background: var(--sg-text-color, var(--theme-code-foreground, var(--jp-content-font-color1, black)));\n",
              "  --sklearn-color-background: var(--sg-background-color, var(--theme-background, var(--jp-layout-color0, white)));\n",
              "  --sklearn-color-border-box: var(--sg-text-color, var(--theme-code-foreground, var(--jp-content-font-color1, black)));\n",
              "  --sklearn-color-icon: #696969;\n",
              "\n",
              "  @media (prefers-color-scheme: dark) {\n",
              "    /* Redefinition of color scheme for dark theme */\n",
              "    --sklearn-color-text-on-default-background: var(--sg-text-color, var(--theme-code-foreground, var(--jp-content-font-color1, white)));\n",
              "    --sklearn-color-background: var(--sg-background-color, var(--theme-background, var(--jp-layout-color0, #111)));\n",
              "    --sklearn-color-border-box: var(--sg-text-color, var(--theme-code-foreground, var(--jp-content-font-color1, white)));\n",
              "    --sklearn-color-icon: #878787;\n",
              "  }\n",
              "}\n",
              "\n",
              "#sk-container-id-3 {\n",
              "  color: var(--sklearn-color-text);\n",
              "}\n",
              "\n",
              "#sk-container-id-3 pre {\n",
              "  padding: 0;\n",
              "}\n",
              "\n",
              "#sk-container-id-3 input.sk-hidden--visually {\n",
              "  border: 0;\n",
              "  clip: rect(1px 1px 1px 1px);\n",
              "  clip: rect(1px, 1px, 1px, 1px);\n",
              "  height: 1px;\n",
              "  margin: -1px;\n",
              "  overflow: hidden;\n",
              "  padding: 0;\n",
              "  position: absolute;\n",
              "  width: 1px;\n",
              "}\n",
              "\n",
              "#sk-container-id-3 div.sk-dashed-wrapped {\n",
              "  border: 1px dashed var(--sklearn-color-line);\n",
              "  margin: 0 0.4em 0.5em 0.4em;\n",
              "  box-sizing: border-box;\n",
              "  padding-bottom: 0.4em;\n",
              "  background-color: var(--sklearn-color-background);\n",
              "}\n",
              "\n",
              "#sk-container-id-3 div.sk-container {\n",
              "  /* jupyter's `normalize.less` sets `[hidden] { display: none; }`\n",
              "     but bootstrap.min.css set `[hidden] { display: none !important; }`\n",
              "     so we also need the `!important` here to be able to override the\n",
              "     default hidden behavior on the sphinx rendered scikit-learn.org.\n",
              "     See: https://github.com/scikit-learn/scikit-learn/issues/21755 */\n",
              "  display: inline-block !important;\n",
              "  position: relative;\n",
              "}\n",
              "\n",
              "#sk-container-id-3 div.sk-text-repr-fallback {\n",
              "  display: none;\n",
              "}\n",
              "\n",
              "div.sk-parallel-item,\n",
              "div.sk-serial,\n",
              "div.sk-item {\n",
              "  /* draw centered vertical line to link estimators */\n",
              "  background-image: linear-gradient(var(--sklearn-color-text-on-default-background), var(--sklearn-color-text-on-default-background));\n",
              "  background-size: 2px 100%;\n",
              "  background-repeat: no-repeat;\n",
              "  background-position: center center;\n",
              "}\n",
              "\n",
              "/* Parallel-specific style estimator block */\n",
              "\n",
              "#sk-container-id-3 div.sk-parallel-item::after {\n",
              "  content: \"\";\n",
              "  width: 100%;\n",
              "  border-bottom: 2px solid var(--sklearn-color-text-on-default-background);\n",
              "  flex-grow: 1;\n",
              "}\n",
              "\n",
              "#sk-container-id-3 div.sk-parallel {\n",
              "  display: flex;\n",
              "  align-items: stretch;\n",
              "  justify-content: center;\n",
              "  background-color: var(--sklearn-color-background);\n",
              "  position: relative;\n",
              "}\n",
              "\n",
              "#sk-container-id-3 div.sk-parallel-item {\n",
              "  display: flex;\n",
              "  flex-direction: column;\n",
              "}\n",
              "\n",
              "#sk-container-id-3 div.sk-parallel-item:first-child::after {\n",
              "  align-self: flex-end;\n",
              "  width: 50%;\n",
              "}\n",
              "\n",
              "#sk-container-id-3 div.sk-parallel-item:last-child::after {\n",
              "  align-self: flex-start;\n",
              "  width: 50%;\n",
              "}\n",
              "\n",
              "#sk-container-id-3 div.sk-parallel-item:only-child::after {\n",
              "  width: 0;\n",
              "}\n",
              "\n",
              "/* Serial-specific style estimator block */\n",
              "\n",
              "#sk-container-id-3 div.sk-serial {\n",
              "  display: flex;\n",
              "  flex-direction: column;\n",
              "  align-items: center;\n",
              "  background-color: var(--sklearn-color-background);\n",
              "  padding-right: 1em;\n",
              "  padding-left: 1em;\n",
              "}\n",
              "\n",
              "\n",
              "/* Toggleable style: style used for estimator/Pipeline/ColumnTransformer box that is\n",
              "clickable and can be expanded/collapsed.\n",
              "- Pipeline and ColumnTransformer use this feature and define the default style\n",
              "- Estimators will overwrite some part of the style using the `sk-estimator` class\n",
              "*/\n",
              "\n",
              "/* Pipeline and ColumnTransformer style (default) */\n",
              "\n",
              "#sk-container-id-3 div.sk-toggleable {\n",
              "  /* Default theme specific background. It is overwritten whether we have a\n",
              "  specific estimator or a Pipeline/ColumnTransformer */\n",
              "  background-color: var(--sklearn-color-background);\n",
              "}\n",
              "\n",
              "/* Toggleable label */\n",
              "#sk-container-id-3 label.sk-toggleable__label {\n",
              "  cursor: pointer;\n",
              "  display: flex;\n",
              "  width: 100%;\n",
              "  margin-bottom: 0;\n",
              "  padding: 0.5em;\n",
              "  box-sizing: border-box;\n",
              "  text-align: center;\n",
              "  align-items: start;\n",
              "  justify-content: space-between;\n",
              "  gap: 0.5em;\n",
              "}\n",
              "\n",
              "#sk-container-id-3 label.sk-toggleable__label .caption {\n",
              "  font-size: 0.6rem;\n",
              "  font-weight: lighter;\n",
              "  color: var(--sklearn-color-text-muted);\n",
              "}\n",
              "\n",
              "#sk-container-id-3 label.sk-toggleable__label-arrow:before {\n",
              "  /* Arrow on the left of the label */\n",
              "  content: \"▸\";\n",
              "  float: left;\n",
              "  margin-right: 0.25em;\n",
              "  color: var(--sklearn-color-icon);\n",
              "}\n",
              "\n",
              "#sk-container-id-3 label.sk-toggleable__label-arrow:hover:before {\n",
              "  color: var(--sklearn-color-text);\n",
              "}\n",
              "\n",
              "/* Toggleable content - dropdown */\n",
              "\n",
              "#sk-container-id-3 div.sk-toggleable__content {\n",
              "  max-height: 0;\n",
              "  max-width: 0;\n",
              "  overflow: hidden;\n",
              "  text-align: left;\n",
              "  /* unfitted */\n",
              "  background-color: var(--sklearn-color-unfitted-level-0);\n",
              "}\n",
              "\n",
              "#sk-container-id-3 div.sk-toggleable__content.fitted {\n",
              "  /* fitted */\n",
              "  background-color: var(--sklearn-color-fitted-level-0);\n",
              "}\n",
              "\n",
              "#sk-container-id-3 div.sk-toggleable__content pre {\n",
              "  margin: 0.2em;\n",
              "  border-radius: 0.25em;\n",
              "  color: var(--sklearn-color-text);\n",
              "  /* unfitted */\n",
              "  background-color: var(--sklearn-color-unfitted-level-0);\n",
              "}\n",
              "\n",
              "#sk-container-id-3 div.sk-toggleable__content.fitted pre {\n",
              "  /* unfitted */\n",
              "  background-color: var(--sklearn-color-fitted-level-0);\n",
              "}\n",
              "\n",
              "#sk-container-id-3 input.sk-toggleable__control:checked~div.sk-toggleable__content {\n",
              "  /* Expand drop-down */\n",
              "  max-height: 200px;\n",
              "  max-width: 100%;\n",
              "  overflow: auto;\n",
              "}\n",
              "\n",
              "#sk-container-id-3 input.sk-toggleable__control:checked~label.sk-toggleable__label-arrow:before {\n",
              "  content: \"▾\";\n",
              "}\n",
              "\n",
              "/* Pipeline/ColumnTransformer-specific style */\n",
              "\n",
              "#sk-container-id-3 div.sk-label input.sk-toggleable__control:checked~label.sk-toggleable__label {\n",
              "  color: var(--sklearn-color-text);\n",
              "  background-color: var(--sklearn-color-unfitted-level-2);\n",
              "}\n",
              "\n",
              "#sk-container-id-3 div.sk-label.fitted input.sk-toggleable__control:checked~label.sk-toggleable__label {\n",
              "  background-color: var(--sklearn-color-fitted-level-2);\n",
              "}\n",
              "\n",
              "/* Estimator-specific style */\n",
              "\n",
              "/* Colorize estimator box */\n",
              "#sk-container-id-3 div.sk-estimator input.sk-toggleable__control:checked~label.sk-toggleable__label {\n",
              "  /* unfitted */\n",
              "  background-color: var(--sklearn-color-unfitted-level-2);\n",
              "}\n",
              "\n",
              "#sk-container-id-3 div.sk-estimator.fitted input.sk-toggleable__control:checked~label.sk-toggleable__label {\n",
              "  /* fitted */\n",
              "  background-color: var(--sklearn-color-fitted-level-2);\n",
              "}\n",
              "\n",
              "#sk-container-id-3 div.sk-label label.sk-toggleable__label,\n",
              "#sk-container-id-3 div.sk-label label {\n",
              "  /* The background is the default theme color */\n",
              "  color: var(--sklearn-color-text-on-default-background);\n",
              "}\n",
              "\n",
              "/* On hover, darken the color of the background */\n",
              "#sk-container-id-3 div.sk-label:hover label.sk-toggleable__label {\n",
              "  color: var(--sklearn-color-text);\n",
              "  background-color: var(--sklearn-color-unfitted-level-2);\n",
              "}\n",
              "\n",
              "/* Label box, darken color on hover, fitted */\n",
              "#sk-container-id-3 div.sk-label.fitted:hover label.sk-toggleable__label.fitted {\n",
              "  color: var(--sklearn-color-text);\n",
              "  background-color: var(--sklearn-color-fitted-level-2);\n",
              "}\n",
              "\n",
              "/* Estimator label */\n",
              "\n",
              "#sk-container-id-3 div.sk-label label {\n",
              "  font-family: monospace;\n",
              "  font-weight: bold;\n",
              "  display: inline-block;\n",
              "  line-height: 1.2em;\n",
              "}\n",
              "\n",
              "#sk-container-id-3 div.sk-label-container {\n",
              "  text-align: center;\n",
              "}\n",
              "\n",
              "/* Estimator-specific */\n",
              "#sk-container-id-3 div.sk-estimator {\n",
              "  font-family: monospace;\n",
              "  border: 1px dotted var(--sklearn-color-border-box);\n",
              "  border-radius: 0.25em;\n",
              "  box-sizing: border-box;\n",
              "  margin-bottom: 0.5em;\n",
              "  /* unfitted */\n",
              "  background-color: var(--sklearn-color-unfitted-level-0);\n",
              "}\n",
              "\n",
              "#sk-container-id-3 div.sk-estimator.fitted {\n",
              "  /* fitted */\n",
              "  background-color: var(--sklearn-color-fitted-level-0);\n",
              "}\n",
              "\n",
              "/* on hover */\n",
              "#sk-container-id-3 div.sk-estimator:hover {\n",
              "  /* unfitted */\n",
              "  background-color: var(--sklearn-color-unfitted-level-2);\n",
              "}\n",
              "\n",
              "#sk-container-id-3 div.sk-estimator.fitted:hover {\n",
              "  /* fitted */\n",
              "  background-color: var(--sklearn-color-fitted-level-2);\n",
              "}\n",
              "\n",
              "/* Specification for estimator info (e.g. \"i\" and \"?\") */\n",
              "\n",
              "/* Common style for \"i\" and \"?\" */\n",
              "\n",
              ".sk-estimator-doc-link,\n",
              "a:link.sk-estimator-doc-link,\n",
              "a:visited.sk-estimator-doc-link {\n",
              "  float: right;\n",
              "  font-size: smaller;\n",
              "  line-height: 1em;\n",
              "  font-family: monospace;\n",
              "  background-color: var(--sklearn-color-background);\n",
              "  border-radius: 1em;\n",
              "  height: 1em;\n",
              "  width: 1em;\n",
              "  text-decoration: none !important;\n",
              "  margin-left: 0.5em;\n",
              "  text-align: center;\n",
              "  /* unfitted */\n",
              "  border: var(--sklearn-color-unfitted-level-1) 1pt solid;\n",
              "  color: var(--sklearn-color-unfitted-level-1);\n",
              "}\n",
              "\n",
              ".sk-estimator-doc-link.fitted,\n",
              "a:link.sk-estimator-doc-link.fitted,\n",
              "a:visited.sk-estimator-doc-link.fitted {\n",
              "  /* fitted */\n",
              "  border: var(--sklearn-color-fitted-level-1) 1pt solid;\n",
              "  color: var(--sklearn-color-fitted-level-1);\n",
              "}\n",
              "\n",
              "/* On hover */\n",
              "div.sk-estimator:hover .sk-estimator-doc-link:hover,\n",
              ".sk-estimator-doc-link:hover,\n",
              "div.sk-label-container:hover .sk-estimator-doc-link:hover,\n",
              ".sk-estimator-doc-link:hover {\n",
              "  /* unfitted */\n",
              "  background-color: var(--sklearn-color-unfitted-level-3);\n",
              "  color: var(--sklearn-color-background);\n",
              "  text-decoration: none;\n",
              "}\n",
              "\n",
              "div.sk-estimator.fitted:hover .sk-estimator-doc-link.fitted:hover,\n",
              ".sk-estimator-doc-link.fitted:hover,\n",
              "div.sk-label-container:hover .sk-estimator-doc-link.fitted:hover,\n",
              ".sk-estimator-doc-link.fitted:hover {\n",
              "  /* fitted */\n",
              "  background-color: var(--sklearn-color-fitted-level-3);\n",
              "  color: var(--sklearn-color-background);\n",
              "  text-decoration: none;\n",
              "}\n",
              "\n",
              "/* Span, style for the box shown on hovering the info icon */\n",
              ".sk-estimator-doc-link span {\n",
              "  display: none;\n",
              "  z-index: 9999;\n",
              "  position: relative;\n",
              "  font-weight: normal;\n",
              "  right: .2ex;\n",
              "  padding: .5ex;\n",
              "  margin: .5ex;\n",
              "  width: min-content;\n",
              "  min-width: 20ex;\n",
              "  max-width: 50ex;\n",
              "  color: var(--sklearn-color-text);\n",
              "  box-shadow: 2pt 2pt 4pt #999;\n",
              "  /* unfitted */\n",
              "  background: var(--sklearn-color-unfitted-level-0);\n",
              "  border: .5pt solid var(--sklearn-color-unfitted-level-3);\n",
              "}\n",
              "\n",
              ".sk-estimator-doc-link.fitted span {\n",
              "  /* fitted */\n",
              "  background: var(--sklearn-color-fitted-level-0);\n",
              "  border: var(--sklearn-color-fitted-level-3);\n",
              "}\n",
              "\n",
              ".sk-estimator-doc-link:hover span {\n",
              "  display: block;\n",
              "}\n",
              "\n",
              "/* \"?\"-specific style due to the `<a>` HTML tag */\n",
              "\n",
              "#sk-container-id-3 a.estimator_doc_link {\n",
              "  float: right;\n",
              "  font-size: 1rem;\n",
              "  line-height: 1em;\n",
              "  font-family: monospace;\n",
              "  background-color: var(--sklearn-color-background);\n",
              "  border-radius: 1rem;\n",
              "  height: 1rem;\n",
              "  width: 1rem;\n",
              "  text-decoration: none;\n",
              "  /* unfitted */\n",
              "  color: var(--sklearn-color-unfitted-level-1);\n",
              "  border: var(--sklearn-color-unfitted-level-1) 1pt solid;\n",
              "}\n",
              "\n",
              "#sk-container-id-3 a.estimator_doc_link.fitted {\n",
              "  /* fitted */\n",
              "  border: var(--sklearn-color-fitted-level-1) 1pt solid;\n",
              "  color: var(--sklearn-color-fitted-level-1);\n",
              "}\n",
              "\n",
              "/* On hover */\n",
              "#sk-container-id-3 a.estimator_doc_link:hover {\n",
              "  /* unfitted */\n",
              "  background-color: var(--sklearn-color-unfitted-level-3);\n",
              "  color: var(--sklearn-color-background);\n",
              "  text-decoration: none;\n",
              "}\n",
              "\n",
              "#sk-container-id-3 a.estimator_doc_link.fitted:hover {\n",
              "  /* fitted */\n",
              "  background-color: var(--sklearn-color-fitted-level-3);\n",
              "}\n",
              "</style><div id=\"sk-container-id-3\" class=\"sk-top-container\"><div class=\"sk-text-repr-fallback\"><pre>GradientBoostingClassifier(random_state=42)</pre><b>In a Jupyter environment, please rerun this cell to show the HTML representation or trust the notebook. <br />On GitHub, the HTML representation is unable to render, please try loading this page with nbviewer.org.</b></div><div class=\"sk-container\" hidden><div class=\"sk-item\"><div class=\"sk-estimator fitted sk-toggleable\"><input class=\"sk-toggleable__control sk-hidden--visually\" id=\"sk-estimator-id-3\" type=\"checkbox\" checked><label for=\"sk-estimator-id-3\" class=\"sk-toggleable__label fitted sk-toggleable__label-arrow\"><div><div>GradientBoostingClassifier</div></div><div><a class=\"sk-estimator-doc-link fitted\" rel=\"noreferrer\" target=\"_blank\" href=\"https://scikit-learn.org/1.6/modules/generated/sklearn.ensemble.GradientBoostingClassifier.html\">?<span>Documentation for GradientBoostingClassifier</span></a><span class=\"sk-estimator-doc-link fitted\">i<span>Fitted</span></span></div></label><div class=\"sk-toggleable__content fitted\"><pre>GradientBoostingClassifier(random_state=42)</pre></div> </div></div></div></div>"
            ]
          },
          "metadata": {},
          "execution_count": 26
        }
      ]
    },
    {
      "cell_type": "code",
      "source": [
        "gb_param = {'n_estimators': [50, 100, 200], 'max_depth': [3, 5, 7], 'min_samples_split': [2, 5, 10] }\n",
        "\n",
        "print(f\"Tuning and Evaluating for {gb}...\")\n",
        "\n",
        "gb_grid_search = GridSearchCV(estimator=gb, param_grid = gb_param, cv=5,)\n",
        "\n",
        "gb_grid_search.fit(x_train, y_train)\n",
        "\n",
        "best_gb = gb_grid_search.best_estimator_\n",
        "print(f\"Best Parameters for gb: {best_gb} \\n\")\n",
        "\n",
        "y_pred_gb = best_gb.predict(x_test)\n",
        "\n",
        "accuracy = accuracy_score(y_test, y_pred_gb)\n",
        "class_report = classification_report(y_test, y_pred_gb)\n",
        "cm = confusion_matrix(y_test, y_pred_gb)\n",
        "\n",
        "print(f\"Accuracy: {accuracy}\")\n",
        "print(f\"Classification Report:\\n{class_report}\")\n",
        "\n",
        "plt.figure(figsize=(6, 4))\n",
        "sns.heatmap(cm, annot=True, fmt=\"d\", cmap=\"Greens\")\n",
        "plt.title(f\"Confusion Matrix: Gradient Boosting\")\n",
        "plt.xlabel(\"Predicted Label\")\n",
        "plt.ylabel(\"True Label\")\n",
        "plt.show()"
      ],
      "metadata": {
        "colab": {
          "base_uri": "https://localhost:8080/",
          "height": 670
        },
        "id": "2j47-z1cNW-L",
        "outputId": "7d4413c0-922e-4855-ded3-a2a751f19985"
      },
      "id": "2j47-z1cNW-L",
      "execution_count": null,
      "outputs": [
        {
          "output_type": "stream",
          "name": "stdout",
          "text": [
            "Tuning and Evaluating for GradientBoostingClassifier(random_state=42)...\n",
            "Best Parameters for gb: GradientBoostingClassifier(max_depth=7, min_samples_split=5, n_estimators=200,\n",
            "                           random_state=42) \n",
            "\n",
            "Accuracy: 0.71\n",
            "Classification Report:\n",
            "              precision    recall  f1-score   support\n",
            "\n",
            "           0       0.70      0.73      0.72       100\n",
            "           1       0.72      0.69      0.70       100\n",
            "\n",
            "    accuracy                           0.71       200\n",
            "   macro avg       0.71      0.71      0.71       200\n",
            "weighted avg       0.71      0.71      0.71       200\n",
            "\n"
          ]
        },
        {
          "output_type": "display_data",
          "data": {
            "text/plain": [
              "<Figure size 600x400 with 2 Axes>"
            ],
            "image/png": "[encoded data removed]"
          },
          "metadata": {}
        }
      ]
    },
    {
      "cell_type": "code",
      "source": [
        "svm = SVC(probability=True, random_state=42)\n",
        "svm.fit(x_train_scaled, y_train)"
      ],
      "metadata": {
        "colab": {
          "base_uri": "https://localhost:8080/",
          "height": 80
        },
        "id": "oT8Fcw7LN4XH",
        "outputId": "e95e8f66-bbc9-4c66-81cf-8524e6353d34"
      },
      "id": "oT8Fcw7LN4XH",
      "execution_count": null,
      "outputs": [
        {
          "output_type": "execute_result",
          "data": {
            "text/plain": [
              "SVC(probability=True, random_state=42)"
            ],
            "text/html": [
              "<style>#sk-container-id-4 {\n",
              "  /* Definition of color scheme common for light and dark mode */\n",
              "  --sklearn-color-text: #000;\n",
              "  --sklearn-color-text-muted: #666;\n",
              "  --sklearn-color-line: gray;\n",
              "  /* Definition of color scheme for unfitted estimators */\n",
              "  --sklearn-color-unfitted-level-0: #fff5e6;\n",
              "  --sklearn-color-unfitted-level-1: #f6e4d2;\n",
              "  --sklearn-color-unfitted-level-2: #ffe0b3;\n",
              "  --sklearn-color-unfitted-level-3: chocolate;\n",
              "  /* Definition of color scheme for fitted estimators */\n",
              "  --sklearn-color-fitted-level-0: #f0f8ff;\n",
              "  --sklearn-color-fitted-level-1: #d4ebff;\n",
              "  --sklearn-color-fitted-level-2: #b3dbfd;\n",
              "  --sklearn-color-fitted-level-3: cornflowerblue;\n",
              "\n",
              "  /* Specific color for light theme */\n",
              "  --sklearn-color-text-on-default-background: var(--sg-text-color, var(--theme-code-foreground, var(--jp-content-font-color1, black)));\n",
              "  --sklearn-color-background: var(--sg-background-color, var(--theme-background, var(--jp-layout-color0, white)));\n",
              "  --sklearn-color-border-box: var(--sg-text-color, var(--theme-code-foreground, var(--jp-content-font-color1, black)));\n",
              "  --sklearn-color-icon: #696969;\n",
              "\n",
              "  @media (prefers-color-scheme: dark) {\n",
              "    /* Redefinition of color scheme for dark theme */\n",
              "    --sklearn-color-text-on-default-background: var(--sg-text-color, var(--theme-code-foreground, var(--jp-content-font-color1, white)));\n",
              "    --sklearn-color-background: var(--sg-background-color, var(--theme-background, var(--jp-layout-color0, #111)));\n",
              "    --sklearn-color-border-box: var(--sg-text-color, var(--theme-code-foreground, var(--jp-content-font-color1, white)));\n",
              "    --sklearn-color-icon: #878787;\n",
              "  }\n",
              "}\n",
              "\n",
              "#sk-container-id-4 {\n",
              "  color: var(--sklearn-color-text);\n",
              "}\n",
              "\n",
              "#sk-container-id-4 pre {\n",
              "  padding: 0;\n",
              "}\n",
              "\n",
              "#sk-container-id-4 input.sk-hidden--visually {\n",
              "  border: 0;\n",
              "  clip: rect(1px 1px 1px 1px);\n",
              "  clip: rect(1px, 1px, 1px, 1px);\n",
              "  height: 1px;\n",
              "  margin: -1px;\n",
              "  overflow: hidden;\n",
              "  padding: 0;\n",
              "  position: absolute;\n",
              "  width: 1px;\n",
              "}\n",
              "\n",
              "#sk-container-id-4 div.sk-dashed-wrapped {\n",
              "  border: 1px dashed var(--sklearn-color-line);\n",
              "  margin: 0 0.4em 0.5em 0.4em;\n",
              "  box-sizing: border-box;\n",
              "  padding-bottom: 0.4em;\n",
              "  background-color: var(--sklearn-color-background);\n",
              "}\n",
              "\n",
              "#sk-container-id-4 div.sk-container {\n",
              "  /* jupyter's `normalize.less` sets `[hidden] { display: none; }`\n",
              "     but bootstrap.min.css set `[hidden] { display: none !important; }`\n",
              "     so we also need the `!important` here to be able to override the\n",
              "     default hidden behavior on the sphinx rendered scikit-learn.org.\n",
              "     See: https://github.com/scikit-learn/scikit-learn/issues/21755 */\n",
              "  display: inline-block !important;\n",
              "  position: relative;\n",
              "}\n",
              "\n",
              "#sk-container-id-4 div.sk-text-repr-fallback {\n",
              "  display: none;\n",
              "}\n",
              "\n",
              "div.sk-parallel-item,\n",
              "div.sk-serial,\n",
              "div.sk-item {\n",
              "  /* draw centered vertical line to link estimators */\n",
              "  background-image: linear-gradient(var(--sklearn-color-text-on-default-background), var(--sklearn-color-text-on-default-background));\n",
              "  background-size: 2px 100%;\n",
              "  background-repeat: no-repeat;\n",
              "  background-position: center center;\n",
              "}\n",
              "\n",
              "/* Parallel-specific style estimator block */\n",
              "\n",
              "#sk-container-id-4 div.sk-parallel-item::after {\n",
              "  content: \"\";\n",
              "  width: 100%;\n",
              "  border-bottom: 2px solid var(--sklearn-color-text-on-default-background);\n",
              "  flex-grow: 1;\n",
              "}\n",
              "\n",
              "#sk-container-id-4 div.sk-parallel {\n",
              "  display: flex;\n",
              "  align-items: stretch;\n",
              "  justify-content: center;\n",
              "  background-color: var(--sklearn-color-background);\n",
              "  position: relative;\n",
              "}\n",
              "\n",
              "#sk-container-id-4 div.sk-parallel-item {\n",
              "  display: flex;\n",
              "  flex-direction: column;\n",
              "}\n",
              "\n",
              "#sk-container-id-4 div.sk-parallel-item:first-child::after {\n",
              "  align-self: flex-end;\n",
              "  width: 50%;\n",
              "}\n",
              "\n",
              "#sk-container-id-4 div.sk-parallel-item:last-child::after {\n",
              "  align-self: flex-start;\n",
              "  width: 50%;\n",
              "}\n",
              "\n",
              "#sk-container-id-4 div.sk-parallel-item:only-child::after {\n",
              "  width: 0;\n",
              "}\n",
              "\n",
              "/* Serial-specific style estimator block */\n",
              "\n",
              "#sk-container-id-4 div.sk-serial {\n",
              "  display: flex;\n",
              "  flex-direction: column;\n",
              "  align-items: center;\n",
              "  background-color: var(--sklearn-color-background);\n",
              "  padding-right: 1em;\n",
              "  padding-left: 1em;\n",
              "}\n",
              "\n",
              "\n",
              "/* Toggleable style: style used for estimator/Pipeline/ColumnTransformer box that is\n",
              "clickable and can be expanded/collapsed.\n",
              "- Pipeline and ColumnTransformer use this feature and define the default style\n",
              "- Estimators will overwrite some part of the style using the `sk-estimator` class\n",
              "*/\n",
              "\n",
              "/* Pipeline and ColumnTransformer style (default) */\n",
              "\n",
              "#sk-container-id-4 div.sk-toggleable {\n",
              "  /* Default theme specific background. It is overwritten whether we have a\n",
              "  specific estimator or a Pipeline/ColumnTransformer */\n",
              "  background-color: var(--sklearn-color-background);\n",
              "}\n",
              "\n",
              "/* Toggleable label */\n",
              "#sk-container-id-4 label.sk-toggleable__label {\n",
              "  cursor: pointer;\n",
              "  display: flex;\n",
              "  width: 100%;\n",
              "  margin-bottom: 0;\n",
              "  padding: 0.5em;\n",
              "  box-sizing: border-box;\n",
              "  text-align: center;\n",
              "  align-items: start;\n",
              "  justify-content: space-between;\n",
              "  gap: 0.5em;\n",
              "}\n",
              "\n",
              "#sk-container-id-4 label.sk-toggleable__label .caption {\n",
              "  font-size: 0.6rem;\n",
              "  font-weight: lighter;\n",
              "  color: var(--sklearn-color-text-muted);\n",
              "}\n",
              "\n",
              "#sk-container-id-4 label.sk-toggleable__label-arrow:before {\n",
              "  /* Arrow on the left of the label */\n",
              "  content: \"▸\";\n",
              "  float: left;\n",
              "  margin-right: 0.25em;\n",
              "  color: var(--sklearn-color-icon);\n",
              "}\n",
              "\n",
              "#sk-container-id-4 label.sk-toggleable__label-arrow:hover:before {\n",
              "  color: var(--sklearn-color-text);\n",
              "}\n",
              "\n",
              "/* Toggleable content - dropdown */\n",
              "\n",
              "#sk-container-id-4 div.sk-toggleable__content {\n",
              "  max-height: 0;\n",
              "  max-width: 0;\n",
              "  overflow: hidden;\n",
              "  text-align: left;\n",
              "  /* unfitted */\n",
              "  background-color: var(--sklearn-color-unfitted-level-0);\n",
              "}\n",
              "\n",
              "#sk-container-id-4 div.sk-toggleable__content.fitted {\n",
              "  /* fitted */\n",
              "  background-color: var(--sklearn-color-fitted-level-0);\n",
              "}\n",
              "\n",
              "#sk-container-id-4 div.sk-toggleable__content pre {\n",
              "  margin: 0.2em;\n",
              "  border-radius: 0.25em;\n",
              "  color: var(--sklearn-color-text);\n",
              "  /* unfitted */\n",
              "  background-color: var(--sklearn-color-unfitted-level-0);\n",
              "}\n",
              "\n",
              "#sk-container-id-4 div.sk-toggleable__content.fitted pre {\n",
              "  /* unfitted */\n",
              "  background-color: var(--sklearn-color-fitted-level-0);\n",
              "}\n",
              "\n",
              "#sk-container-id-4 input.sk-toggleable__control:checked~div.sk-toggleable__content {\n",
              "  /* Expand drop-down */\n",
              "  max-height: 200px;\n",
              "  max-width: 100%;\n",
              "  overflow: auto;\n",
              "}\n",
              "\n",
              "#sk-container-id-4 input.sk-toggleable__control:checked~label.sk-toggleable__label-arrow:before {\n",
              "  content: \"▾\";\n",
              "}\n",
              "\n",
              "/* Pipeline/ColumnTransformer-specific style */\n",
              "\n",
              "#sk-container-id-4 div.sk-label input.sk-toggleable__control:checked~label.sk-toggleable__label {\n",
              "  color: var(--sklearn-color-text);\n",
              "  background-color: var(--sklearn-color-unfitted-level-2);\n",
              "}\n",
              "\n",
              "#sk-container-id-4 div.sk-label.fitted input.sk-toggleable__control:checked~label.sk-toggleable__label {\n",
              "  background-color: var(--sklearn-color-fitted-level-2);\n",
              "}\n",
              "\n",
              "/* Estimator-specific style */\n",
              "\n",
              "/* Colorize estimator box */\n",
              "#sk-container-id-4 div.sk-estimator input.sk-toggleable__control:checked~label.sk-toggleable__label {\n",
              "  /* unfitted */\n",
              "  background-color: var(--sklearn-color-unfitted-level-2);\n",
              "}\n",
              "\n",
              "#sk-container-id-4 div.sk-estimator.fitted input.sk-toggleable__control:checked~label.sk-toggleable__label {\n",
              "  /* fitted */\n",
              "  background-color: var(--sklearn-color-fitted-level-2);\n",
              "}\n",
              "\n",
              "#sk-container-id-4 div.sk-label label.sk-toggleable__label,\n",
              "#sk-container-id-4 div.sk-label label {\n",
              "  /* The background is the default theme color */\n",
              "  color: var(--sklearn-color-text-on-default-background);\n",
              "}\n",
              "\n",
              "/* On hover, darken the color of the background */\n",
              "#sk-container-id-4 div.sk-label:hover label.sk-toggleable__label {\n",
              "  color: var(--sklearn-color-text);\n",
              "  background-color: var(--sklearn-color-unfitted-level-2);\n",
              "}\n",
              "\n",
              "/* Label box, darken color on hover, fitted */\n",
              "#sk-container-id-4 div.sk-label.fitted:hover label.sk-toggleable__label.fitted {\n",
              "  color: var(--sklearn-color-text);\n",
              "  background-color: var(--sklearn-color-fitted-level-2);\n",
              "}\n",
              "\n",
              "/* Estimator label */\n",
              "\n",
              "#sk-container-id-4 div.sk-label label {\n",
              "  font-family: monospace;\n",
              "  font-weight: bold;\n",
              "  display: inline-block;\n",
              "  line-height: 1.2em;\n",
              "}\n",
              "\n",
              "#sk-container-id-4 div.sk-label-container {\n",
              "  text-align: center;\n",
              "}\n",
              "\n",
              "/* Estimator-specific */\n",
              "#sk-container-id-4 div.sk-estimator {\n",
              "  font-family: monospace;\n",
              "  border: 1px dotted var(--sklearn-color-border-box);\n",
              "  border-radius: 0.25em;\n",
              "  box-sizing: border-box;\n",
              "  margin-bottom: 0.5em;\n",
              "  /* unfitted */\n",
              "  background-color: var(--sklearn-color-unfitted-level-0);\n",
              "}\n",
              "\n",
              "#sk-container-id-4 div.sk-estimator.fitted {\n",
              "  /* fitted */\n",
              "  background-color: var(--sklearn-color-fitted-level-0);\n",
              "}\n",
              "\n",
              "/* on hover */\n",
              "#sk-container-id-4 div.sk-estimator:hover {\n",
              "  /* unfitted */\n",
              "  background-color: var(--sklearn-color-unfitted-level-2);\n",
              "}\n",
              "\n",
              "#sk-container-id-4 div.sk-estimator.fitted:hover {\n",
              "  /* fitted */\n",
              "  background-color: var(--sklearn-color-fitted-level-2);\n",
              "}\n",
              "\n",
              "/* Specification for estimator info (e.g. \"i\" and \"?\") */\n",
              "\n",
              "/* Common style for \"i\" and \"?\" */\n",
              "\n",
              ".sk-estimator-doc-link,\n",
              "a:link.sk-estimator-doc-link,\n",
              "a:visited.sk-estimator-doc-link {\n",
              "  float: right;\n",
              "  font-size: smaller;\n",
              "  line-height: 1em;\n",
              "  font-family: monospace;\n",
              "  background-color: var(--sklearn-color-background);\n",
              "  border-radius: 1em;\n",
              "  height: 1em;\n",
              "  width: 1em;\n",
              "  text-decoration: none !important;\n",
              "  margin-left: 0.5em;\n",
              "  text-align: center;\n",
              "  /* unfitted */\n",
              "  border: var(--sklearn-color-unfitted-level-1) 1pt solid;\n",
              "  color: var(--sklearn-color-unfitted-level-1);\n",
              "}\n",
              "\n",
              ".sk-estimator-doc-link.fitted,\n",
              "a:link.sk-estimator-doc-link.fitted,\n",
              "a:visited.sk-estimator-doc-link.fitted {\n",
              "  /* fitted */\n",
              "  border: var(--sklearn-color-fitted-level-1) 1pt solid;\n",
              "  color: var(--sklearn-color-fitted-level-1);\n",
              "}\n",
              "\n",
              "/* On hover */\n",
              "div.sk-estimator:hover .sk-estimator-doc-link:hover,\n",
              ".sk-estimator-doc-link:hover,\n",
              "div.sk-label-container:hover .sk-estimator-doc-link:hover,\n",
              ".sk-estimator-doc-link:hover {\n",
              "  /* unfitted */\n",
              "  background-color: var(--sklearn-color-unfitted-level-3);\n",
              "  color: var(--sklearn-color-background);\n",
              "  text-decoration: none;\n",
              "}\n",
              "\n",
              "div.sk-estimator.fitted:hover .sk-estimator-doc-link.fitted:hover,\n",
              ".sk-estimator-doc-link.fitted:hover,\n",
              "div.sk-label-container:hover .sk-estimator-doc-link.fitted:hover,\n",
              ".sk-estimator-doc-link.fitted:hover {\n",
              "  /* fitted */\n",
              "  background-color: var(--sklearn-color-fitted-level-3);\n",
              "  color: var(--sklearn-color-background);\n",
              "  text-decoration: none;\n",
              "}\n",
              "\n",
              "/* Span, style for the box shown on hovering the info icon */\n",
              ".sk-estimator-doc-link span {\n",
              "  display: none;\n",
              "  z-index: 9999;\n",
              "  position: relative;\n",
              "  font-weight: normal;\n",
              "  right: .2ex;\n",
              "  padding: .5ex;\n",
              "  margin: .5ex;\n",
              "  width: min-content;\n",
              "  min-width: 20ex;\n",
              "  max-width: 50ex;\n",
              "  color: var(--sklearn-color-text);\n",
              "  box-shadow: 2pt 2pt 4pt #999;\n",
              "  /* unfitted */\n",
              "  background: var(--sklearn-color-unfitted-level-0);\n",
              "  border: .5pt solid var(--sklearn-color-unfitted-level-3);\n",
              "}\n",
              "\n",
              ".sk-estimator-doc-link.fitted span {\n",
              "  /* fitted */\n",
              "  background: var(--sklearn-color-fitted-level-0);\n",
              "  border: var(--sklearn-color-fitted-level-3);\n",
              "}\n",
              "\n",
              ".sk-estimator-doc-link:hover span {\n",
              "  display: block;\n",
              "}\n",
              "\n",
              "/* \"?\"-specific style due to the `<a>` HTML tag */\n",
              "\n",
              "#sk-container-id-4 a.estimator_doc_link {\n",
              "  float: right;\n",
              "  font-size: 1rem;\n",
              "  line-height: 1em;\n",
              "  font-family: monospace;\n",
              "  background-color: var(--sklearn-color-background);\n",
              "  border-radius: 1rem;\n",
              "  height: 1rem;\n",
              "  width: 1rem;\n",
              "  text-decoration: none;\n",
              "  /* unfitted */\n",
              "  color: var(--sklearn-color-unfitted-level-1);\n",
              "  border: var(--sklearn-color-unfitted-level-1) 1pt solid;\n",
              "}\n",
              "\n",
              "#sk-container-id-4 a.estimator_doc_link.fitted {\n",
              "  /* fitted */\n",
              "  border: var(--sklearn-color-fitted-level-1) 1pt solid;\n",
              "  color: var(--sklearn-color-fitted-level-1);\n",
              "}\n",
              "\n",
              "/* On hover */\n",
              "#sk-container-id-4 a.estimator_doc_link:hover {\n",
              "  /* unfitted */\n",
              "  background-color: var(--sklearn-color-unfitted-level-3);\n",
              "  color: var(--sklearn-color-background);\n",
              "  text-decoration: none;\n",
              "}\n",
              "\n",
              "#sk-container-id-4 a.estimator_doc_link.fitted:hover {\n",
              "  /* fitted */\n",
              "  background-color: var(--sklearn-color-fitted-level-3);\n",
              "}\n",
              "</style><div id=\"sk-container-id-4\" class=\"sk-top-container\"><div class=\"sk-text-repr-fallback\"><pre>SVC(probability=True, random_state=42)</pre><b>In a Jupyter environment, please rerun this cell to show the HTML representation or trust the notebook. <br />On GitHub, the HTML representation is unable to render, please try loading this page with nbviewer.org.</b></div><div class=\"sk-container\" hidden><div class=\"sk-item\"><div class=\"sk-estimator fitted sk-toggleable\"><input class=\"sk-toggleable__control sk-hidden--visually\" id=\"sk-estimator-id-4\" type=\"checkbox\" checked><label for=\"sk-estimator-id-4\" class=\"sk-toggleable__label fitted sk-toggleable__label-arrow\"><div><div>SVC</div></div><div><a class=\"sk-estimator-doc-link fitted\" rel=\"noreferrer\" target=\"_blank\" href=\"https://scikit-learn.org/1.6/modules/generated/sklearn.svm.SVC.html\">?<span>Documentation for SVC</span></a><span class=\"sk-estimator-doc-link fitted\">i<span>Fitted</span></span></div></label><div class=\"sk-toggleable__content fitted\"><pre>SVC(probability=True, random_state=42)</pre></div> </div></div></div></div>"
            ]
          },
          "metadata": {},
          "execution_count": 30
        }
      ]
    },
    {
      "cell_type": "code",
      "source": [
        "svm_param = {'C': [0.1, 1, 10, 100],'gamma': [0.01, 0.1, 1], 'kernel': ['linear', 'rbf']}\n",
        "\n",
        "print(f\"Tuning and Evaluating for {svm}...\")\n",
        "\n",
        "svm_grid_search = GridSearchCV(estimator=svm, param_grid = svm_param, cv=5,)\n",
        "\n",
        "svm_grid_search.fit(x_train_scaled, y_train)\n",
        "\n",
        "best_svm = svm_grid_search.best_estimator_\n",
        "print(f\"Best Parameters for svm: {best_svm} \\n\")\n",
        "\n",
        "y_pred_svm = best_svm.predict(x_test_scaled)\n",
        "\n",
        "accuracy = accuracy_score(y_test, y_pred_svm)\n",
        "class_report = classification_report(y_test, y_pred_svm)\n",
        "cm = confusion_matrix(y_test, y_pred_svm)\n",
        "\n",
        "print(f\"Accuracy: {accuracy} \\n\")\n",
        "print(f\"Classification Report:\\n{class_report}\")\n",
        "\n",
        "plt.figure(figsize=(6, 4))\n",
        "sns.heatmap(cm, annot=True, fmt=\"d\", cmap=\"Reds\")\n",
        "plt.title(f\"Confusion Matrix: SVC\")\n",
        "plt.xlabel(\"Predicted Label\")\n",
        "plt.ylabel(\"True Label\")\n",
        "plt.show()"
      ],
      "metadata": {
        "colab": {
          "base_uri": "https://localhost:8080/",
          "height": 670
        },
        "id": "VoXHxlQTN74Y",
        "outputId": "6d592df3-5592-4b70-e696-83c394ebf051"
      },
      "id": "VoXHxlQTN74Y",
      "execution_count": null,
      "outputs": [
        {
          "output_type": "stream",
          "name": "stdout",
          "text": [
            "Tuning and Evaluating for SVC(probability=True, random_state=42)...\n",
            "Best Parameters for svm: SVC(C=10, gamma=0.1, probability=True, random_state=42) \n",
            "\n",
            "Accuracy: 0.69 \n",
            "\n",
            "Classification Report:\n",
            "              precision    recall  f1-score   support\n",
            "\n",
            "           0       0.69      0.68      0.69       100\n",
            "           1       0.69      0.70      0.69       100\n",
            "\n",
            "    accuracy                           0.69       200\n",
            "   macro avg       0.69      0.69      0.69       200\n",
            "weighted avg       0.69      0.69      0.69       200\n",
            "\n"
          ]
        },
        {
          "output_type": "display_data",
          "data": {
            "text/plain": [
              "<Figure size 600x400 with 2 Axes>"
            ],
            "image/png": "[encoded data removed]"
          },
          "metadata": {}
        }
      ]
    },
    {
      "cell_type": "code",
      "source": [
        "results = {}\n",
        "\n",
        "# --- Random Forest ---\n",
        "results['RandomForest'] = {\n",
        "    'Accuracy': accuracy_score(y_test, y_pred_rf),\n",
        "    'Precision': precision_score(y_test, y_pred_rf, average='macro'),\n",
        "    'Recall': recall_score(y_test, y_pred_rf, average='macro'),\n",
        "    'F1': f1_score(y_test, y_pred_rf, average='macro')\n",
        "}\n",
        "\n",
        "# --- Gradient Boosting ---\n",
        "results['GradientBoosting'] = {\n",
        "    'Accuracy': accuracy_score(y_test, y_pred_gb),\n",
        "    'Precision': precision_score(y_test, y_pred_gb, average='macro'),\n",
        "    'Recall': recall_score(y_test, y_pred_gb, average='macro'),\n",
        "    'F1': f1_score(y_test, y_pred_gb, average='macro')\n",
        "}\n",
        "\n",
        "# --- SVM ---\n",
        "results['SVM'] = {\n",
        "    'Accuracy': accuracy_score(y_test, y_pred_svm),\n",
        "    'Precision': precision_score(y_test, y_pred_svm, average='macro'),\n",
        "    'Recall': recall_score(y_test, y_pred_svm, average='macro'),\n",
        "    'F1': f1_score(y_test, y_pred_svm, average='macro')\n",
        "}\n",
        "\n",
        "# Convert to DataFrame for pretty view\n",
        "results_df = pd.DataFrame(results).T\n",
        "print(\"\\nModel Comparison:\\n\")\n",
        "print(results_df)\n",
        "\n",
        "# Optional: visualize as bar chart\n",
        "results_df.plot(kind='bar', figsize=(10,6), colormap=\"Set2\")\n",
        "plt.title(\"Model Performance Comparison\")\n",
        "plt.ylabel(\"Score\")\n",
        "plt.ylim(0, 1)\n",
        "plt.xticks(rotation=0)\n",
        "plt.legend(bbox_to_anchor=(1.05, 1), loc='upper left')\n",
        "plt.show()"
      ],
      "metadata": {
        "colab": {
          "base_uri": "https://localhost:8080/",
          "height": 667
        },
        "id": "OKX_9m-xeLIo",
        "outputId": "cf9f50ba-5c41-4292-e067-6e4d058082ae"
      },
      "id": "OKX_9m-xeLIo",
      "execution_count": null,
      "outputs": [
        {
          "output_type": "stream",
          "name": "stdout",
          "text": [
            "\n",
            "Model Comparison:\n",
            "\n",
            "                  Accuracy  Precision  Recall        F1\n",
            "RandomForest         0.735   0.737878   0.735  0.734196\n",
            "GradientBoosting     0.710   0.710337   0.710  0.709884\n",
            "SVM                  0.690   0.690076   0.690  0.689969\n"
          ]
        },
        {
          "output_type": "display_data",
          "data": {
            "text/plain": [
              "<Figure size 1000x600 with 1 Axes>"
            ],
            "image/png": "[encoded data removed]"
          },
          "metadata": {}
        }
      ]
    },
    {
      "cell_type": "markdown",
      "source": [
        "Tree‑based ensembles (Random Forest and Gradient Boosting) naturally handle non‑linear feature interactions and imbalanced variance better than SVMs, which is why they perform better than SVM in both accuracy and other metrics for this dataset.\n",
        "\n",
        "Out of all, Random Forest worked best since it is a set of many decision trees, thus it is noise and overfitting robust. It achieves non‑linear, complex relationships between features in the data without being underpinned by assumptions such as linear separability. With equal classes (500/500), Random Forest is able to use varying tree splits to generalize well, thus higher accuracy, recall, and F1.\n",
        "\n",
        "---"
      ],
      "metadata": {
        "id": "zpWHefW3GkLr"
      },
      "id": "zpWHefW3GkLr"
    },
    {
      "cell_type": "code",
      "source": [
        "# Random Forest feature importances\n",
        "rf_importances = best_rf.feature_importances_\n",
        "rf_importances_df = pd.DataFrame({\n",
        "    'Feature': x_train.columns,\n",
        "    'Importance': rf_importances\n",
        "}).sort_values(by=\"Importance\", ascending=False)\n",
        "\n",
        "print(\"\\nRandom Forest Feature Importances:\\n\")\n",
        "print(rf_importances_df.head(10))\n",
        "\n",
        "# Plot\n",
        "plt.figure(figsize=(8,5))\n",
        "sns.barplot(x=\"Importance\", y=\"Feature\", data=rf_importances_df.head(15), palette=\"viridis\")\n",
        "plt.title(\"Random Forest - Top Feature Importances\")\n",
        "plt.show()"
      ],
      "metadata": {
        "id": "j-55S_dilAPI",
        "colab": {
          "base_uri": "https://localhost:8080/",
          "height": 713
        },
        "outputId": "3ebf3486-c324-4fc0-9653-7c4d151c0f8d"
      },
      "id": "j-55S_dilAPI",
      "execution_count": null,
      "outputs": [
        {
          "output_type": "stream",
          "name": "stdout",
          "text": [
            "\n",
            "Random Forest Feature Importances:\n",
            "\n",
            "           Feature  Importance\n",
            "2              age    0.347251\n",
            "4    balance_euros    0.144841\n",
            "5     num_products    0.119100\n",
            "8     salary_euros    0.115557\n",
            "0     credit_score    0.111568\n",
            "3   years_customer    0.075130\n",
            "7        is_active    0.036275\n",
            "1           gender    0.032521\n",
            "6  has_credit_card    0.017757\n"
          ]
        },
        {
          "output_type": "display_data",
          "data": {
            "text/plain": [
              "<Figure size 800x500 with 1 Axes>"
            ],
            "image/png": "[encoded data removed]"
          },
          "metadata": {}
        }
      ]
    },
    {
      "cell_type": "markdown",
      "source": [
        "Random Forest emphasizes age as the strongest churn driver, followed by other features such as balance, number of products, salary, and credit score. Customer tenure is of moderate impact, while activity status, gender, and ownership of credit cards contribute minimally.\n",
        "\n",
        "At the pipeline level, this is the reason tree‑based models perform better than SVM: they are able to identify these non‑linear monetary + demographic interactions driving churn, creating predictions more stable and practical.\n",
        "\n",
        "---"
      ],
      "metadata": {
        "id": "M66urUXkIb-k"
      },
      "id": "M66urUXkIb-k"
    },
    {
      "cell_type": "markdown",
      "source": [
        "# **Pre-processing for Quantum computing**"
      ],
      "metadata": {
        "id": "Z_ecmh2HRadC"
      },
      "id": "Z_ecmh2HRadC"
    },
    {
      "cell_type": "markdown",
      "source": [
        "Current quantum computers can only handle a small number of qubits. Each feature needs to be encoded into a qubit state. If too many features cannot be handled by curren tmodels. Thus `Principal Component Analysis (PCA)` will be applied for processing of the quantum models."
      ],
      "metadata": {
        "id": "xfipZmjZJSGh"
      },
      "id": "xfipZmjZJSGh"
    },
    {
      "cell_type": "code",
      "source": [
        "pca = PCA(n_components=0.95, random_state=42)\n",
        "\n",
        "# For quantum models, we'll need to reduce to 5 components later\n",
        "pca_quantum = PCA(n_components=5, random_state=42)\n",
        "x_train_pca_quantum = pca_quantum.fit_transform(x_train_scaled)\n",
        "x_test_pca_quantum = pca_quantum.transform(x_test_scaled)\n",
        "\n",
        "print(\"\\nQuantum PCA (5 components):\")\n",
        "print(\"Train Quantum PCA shape:\", x_train_pca_quantum.shape)\n",
        "print(\"Quantum Explained Variance Ratio:\", pca_quantum.explained_variance_ratio_.round(3))\n",
        "print(\"Quantum Total Variance Explained:\", pca_quantum.explained_variance_ratio_.sum().round(3))"
      ],
      "metadata": {
        "colab": {
          "base_uri": "https://localhost:8080/"
        },
        "id": "RiB6pJVaB2ZX",
        "outputId": "56f75645-d31d-4c34-a659-7ff558f481ba"
      },
      "id": "RiB6pJVaB2ZX",
      "execution_count": null,
      "outputs": [
        {
          "output_type": "stream",
          "name": "stdout",
          "text": [
            "\n",
            "Quantum PCA (5 components):\n",
            "Train Quantum PCA shape: (800, 5)\n",
            "Quantum Explained Variance Ratio: [0.238 0.233 0.195 0.084 0.08 ]\n",
            "Quantum Total Variance Explained: 0.831\n"
          ]
        }
      ]
    },
    {
      "cell_type": "markdown",
      "source": [
        "PCA pulls out the most valuable information features while removing redundancy.\n",
        "This avoids wasting qubits on less meaningful information.\n",
        "By mapping correlated features to principal components, PCA minimizes input noise.\n",
        "Quantum models are noise-sensitive, so this process stabilizes performance.\n",
        "\n",
        "PCA was used only for quantum models to limit the number of features to 5, maintaining consistency with the limitation of qubits while keeping most of the information in the dataset.\n",
        "\n",
        "`Variance`: 5 components collectively describe 83.1% of the variability in the dataset and PCA is an acceptable trade-off between information retention and dimensionality reduction for quantum models.\n",
        "\n",
        "---"
      ],
      "metadata": {
        "id": "R98qpzMyKB1h"
      },
      "id": "R98qpzMyKB1h"
    },
    {
      "cell_type": "code",
      "source": [
        "# Access loadings\n",
        "loadings = pca_quantum.components_\n",
        "features = x_train.columns\n",
        "\n",
        "loadings_df = pd.DataFrame(loadings.T, columns=[f'PC{i+1}' for i in range(loadings.shape[0])], index=features)\n",
        "\n",
        "print(\"PCA Loadings Matrix (how original features contribute to each PC):\")\n",
        "print(loadings_df.head(10))\n",
        "\n",
        "# Top contributing features for each component\n",
        "for i in range(loadings.shape[0]):\n",
        "    print(f\"\\nTop features for PC{i+1}:\")\n",
        "    print(loadings_df.iloc[:, i].abs().sort_values(ascending=False).head(5))"
      ],
      "metadata": {
        "colab": {
          "base_uri": "https://localhost:8080/"
        },
        "id": "t5mMtdKhirt6",
        "outputId": "f96d8623-7f48-4f8f-f24b-8e1d6777db45"
      },
      "id": "t5mMtdKhirt6",
      "execution_count": null,
      "outputs": [
        {
          "output_type": "stream",
          "name": "stdout",
          "text": [
            "PCA Loadings Matrix (how original features contribute to each PC):\n",
            "                      PC1       PC2       PC3       PC4       PC5\n",
            "credit_score    -0.002449 -0.014000 -0.004906  0.008875  0.005818\n",
            "gender           0.818084  0.506653  0.267976  0.020695  0.017579\n",
            "age             -0.022551  0.002685 -0.014963  0.038984  0.003938\n",
            "years_customer   0.041361 -0.002229 -0.042607 -0.065793  0.288511\n",
            "balance_euros    0.001504 -0.042126 -0.016701  0.957870  0.118617\n",
            "num_products    -0.017921 -0.014215  0.042698 -0.246932 -0.061501\n",
            "has_credit_card -0.133897 -0.281816  0.947502  0.015642 -0.003795\n",
            "is_active       -0.556959  0.811260  0.161953  0.029049  0.063173\n",
            "salary_euros     0.007596 -0.059620  0.005964 -0.118597  0.945804\n",
            "\n",
            "Top features for PC1:\n",
            "gender             0.818084\n",
            "is_active          0.556959\n",
            "has_credit_card    0.133897\n",
            "years_customer     0.041361\n",
            "age                0.022551\n",
            "Name: PC1, dtype: float64\n",
            "\n",
            "Top features for PC2:\n",
            "is_active          0.811260\n",
            "gender             0.506653\n",
            "has_credit_card    0.281816\n",
            "salary_euros       0.059620\n",
            "balance_euros      0.042126\n",
            "Name: PC2, dtype: float64\n",
            "\n",
            "Top features for PC3:\n",
            "has_credit_card    0.947502\n",
            "gender             0.267976\n",
            "is_active          0.161953\n",
            "num_products       0.042698\n",
            "years_customer     0.042607\n",
            "Name: PC3, dtype: float64\n",
            "\n",
            "Top features for PC4:\n",
            "balance_euros     0.957870\n",
            "num_products      0.246932\n",
            "salary_euros      0.118597\n",
            "years_customer    0.065793\n",
            "age               0.038984\n",
            "Name: PC4, dtype: float64\n",
            "\n",
            "Top features for PC5:\n",
            "salary_euros      0.945804\n",
            "years_customer    0.288511\n",
            "balance_euros     0.118617\n",
            "is_active         0.063173\n",
            "num_products      0.061501\n",
            "Name: PC5, dtype: float64\n"
          ]
        }
      ]
    },
    {
      "cell_type": "markdown",
      "source": [
        "We can here see  the top performing feature in each components.\n",
        "\n",
        "**PC1** is primarily driven by `gender` and `activity status`, **PC2** pairs `activity status` and `gender` again but with different orientation, **PC3** is dominated by `credit card ownership`, **PC4** is highly explained by `balance`, and **PC5** is highly driven by `salary`.\n",
        "\n",
        "To be brief, every PC captures various dimensions of customer behavior — demographics, engagement, or financial characteristics — illustrating how PCA minimizes dimensionality without sacrificing the largest sources of variance.\n",
        "\n",
        "---"
      ],
      "metadata": {
        "id": "GUOQFKQeOtM6"
      },
      "id": "GUOQFKQeOtM6"
    },
    {
      "cell_type": "code",
      "source": [
        "# Use the 5-component PCA features\n",
        "X_train_q = x_train_pca_quantum\n",
        "X_test_q = x_test_pca_quantum\n",
        "y_train_q = y_train\n",
        "y_test_q = y_test\n",
        "\n",
        "# Convert PCA features & labels into proper NumPy arrays\n",
        "X_train_q = np.asarray(x_train_pca_quantum)\n",
        "X_test_q  = np.asarray(x_test_pca_quantum)\n",
        "y_train_q = np.asarray(y_train)\n",
        "y_test_q  = np.asarray(y_test)\n",
        "\n",
        "print(\"Shapes:\")\n",
        "print(\"X_train_q:\", X_train_q.shape)\n",
        "print(\"X_test_q :\", X_test_q.shape)\n",
        "print(\"y_train_q:\", y_train_q.shape)\n",
        "print(\"y_test_q :\", y_test_q.shape)"
      ],
      "metadata": {
        "colab": {
          "base_uri": "https://localhost:8080/"
        },
        "id": "pzhZg2_5mQHE",
        "outputId": "77c5fff4-6544-489e-dae3-09cff40cabfc"
      },
      "id": "pzhZg2_5mQHE",
      "execution_count": null,
      "outputs": [
        {
          "output_type": "stream",
          "name": "stdout",
          "text": [
            "Shapes:\n",
            "X_train_q: (800, 5)\n",
            "X_test_q : (200, 5)\n",
            "y_train_q: (800,)\n",
            "y_test_q : (200,)\n"
          ]
        }
      ]
    },
    {
      "cell_type": "markdown",
      "source": [
        "This line ensures you’re training your quantum models on these 5 compressed features — which map directly to 5 qubits in our quantum feature map."
      ],
      "metadata": {
        "id": "6vVugazjRK_x"
      },
      "id": "6vVugazjRK_x"
    },
    {
      "cell_type": "markdown",
      "source": [
        "# **Quantum Models**"
      ],
      "metadata": {
        "id": "ke-1eMwpRUn3"
      },
      "id": "ke-1eMwpRUn3"
    },
    {
      "cell_type": "markdown",
      "source": [
        "**1. Quantum Kernel + classical SVM**\n",
        "\n",
        "\n",
        "quantum feature map (like ZZFeatureMap or PauliFeatureMap) → embeds classical data into quantum Hilbert space.\n",
        "Then compute kernel values = pairwise fidelities between data states.\n",
        "These kernel matrices (Gram matrices) are fed into a standard SVM (Support Vector Classifier) in scikit‑learn."
      ],
      "metadata": {
        "id": "_ihf4ukLF3-B"
      },
      "id": "_ihf4ukLF3-B"
    },
    {
      "cell_type": "code",
      "source": [
        "# 1. Define feature map\n",
        "feature_map = ZZFeatureMap(feature_dimension=X_train_q.shape[1])\n",
        "\n",
        "# 2. Build the quantum kernel (no sampler arg in >=0.8.x)\n",
        "quantum_kernel = FidelityQuantumKernel(feature_map=feature_map)"
      ],
      "metadata": {
        "id": "v4qaBoPq2kyj"
      },
      "id": "v4qaBoPq2kyj",
      "execution_count": null,
      "outputs": []
    },
    {
      "cell_type": "markdown",
      "source": [
        "The `ZZFeatureMap` constructs a quantum circuit where one feature (dimension) equals one qubit, which are entangled to produce a more expressive representation.\n",
        "\n",
        "The `FidelityQuantumKernel` then employs this feature map to calculate similarity scores between data points pairs from overlaps of quantum states. These kernel values serve as the basis for training a quantum SVM classifier."
      ],
      "metadata": {
        "id": "5NwgynaIVW9L"
      },
      "id": "5NwgynaIVW9L"
    },
    {
      "cell_type": "code",
      "source": [
        "# # 3. Train Gram matrix (The Gram matrix is the kernel (similarity) matrix)\n",
        "# K_train = quantum_kernel.evaluate(X_train_q)\n",
        "\n",
        "# # 4. Train SVM\n",
        "# qsvm = SVC(kernel=\"precomputed\")\n",
        "# qsvm.fit(K_train, y_train_q)"
      ],
      "metadata": {
        "id": "vgTj0x-52xJt"
      },
      "id": "vgTj0x-52xJt",
      "execution_count": null,
      "outputs": []
    },
    {
      "cell_type": "code",
      "source": [
        "# # 5. Test Gram matrix\n",
        "# K_test = quantum_kernel.evaluate(X_test_q, X_train_q)\n",
        "# y_pred = qsvm.predict(K_test)\n",
        "\n",
        "# # 6. Accuracy\n",
        "# print(\"Training accuracy:\", accuracy_score(y_train_q, qsvm.predict(K_train)))\n",
        "# print(\"Test accuracy    :\", accuracy_score(y_test_q, y_pred))\n",
        "# print(\"classification report:\")\n",
        "# print(classification_report(y_test_q, y_pred))\n",
        "# print(\"Confusion Matrix: \\n\", confusion_matrix(y_test_q, y_pred))\n",
        "# print(\"Predictions:\", y_pred)"
      ],
      "metadata": {
        "id": "3K1Aurt820db"
      },
      "id": "3K1Aurt820db",
      "execution_count": null,
      "outputs": []
    },
    {
      "cell_type": "markdown",
      "source": [
        "The quantum kernel SVM train step was commented out since it involves calculating a full Gram (kernel) matrix, which has quadratic scaling with respect to the number of samples. For big datasets (e.g. 1000+ records with 5 qubits), this would take quite a while to execute.\n",
        "\n",
        "Although this step is required for quantum kernel evaluation, it has been omitted here in order to maintain the pipeline light and efficient for experimentation purposes. The remaining pipeline is not disturbed, and this block can be re‑enabled for shorter datasets or dedicated extended runs.\n",
        "\n",
        "---"
      ],
      "metadata": {
        "id": "xJgwWl2AXqd6"
      },
      "id": "xJgwWl2AXqd6"
    },
    {
      "cell_type": "markdown",
      "source": [
        "**2. PegasosQSVC (efficient SVM)**\n",
        "\n",
        "Instead of using scikit‑learn’s heavy quadratic SVM solver, Pegasos uses an efficient stochastic optimization algorithm (Pegasos algorithm).\n",
        "It trains directly with the kernel in a scalable way."
      ],
      "metadata": {
        "id": "lXf7oUI4F-27"
      },
      "id": "lXf7oUI4F-27"
    },
    {
      "cell_type": "code",
      "source": [
        "pegasos_qsvc = PegasosQSVC(quantum_kernel=quantum_kernel, C=1.0, num_steps=200)\n",
        "pegasos_qsvc.fit(X_train_q, y_train_q)   # Notice: it takes raw X, computes kernel internally\n",
        "y_pred_pegasos = pegasos_qsvc.predict(X_test_q)"
      ],
      "metadata": {
        "id": "zhoqnHWkFyY5"
      },
      "id": "zhoqnHWkFyY5",
      "execution_count": null,
      "outputs": []
    },
    {
      "cell_type": "markdown",
      "source": [
        "This step trains a quantum SVM with the Pegasos algorithm, which is more efficient and scalable than the kernel SVM due to its aversion to calculating the costly Gram matrix."
      ],
      "metadata": {
        "id": "UxiRQLwiYfkn"
      },
      "id": "UxiRQLwiYfkn"
    },
    {
      "cell_type": "code",
      "source": [
        "print(\"PegasosQSVC accuracy:\", accuracy_score(y_test_q, y_pred_pegasos))\n",
        "print(\"classification report:\")\n",
        "print(classification_report(y_test_q, y_pred_pegasos))\n",
        "print(\"Confusion Matrix: \\n\", confusion_matrix(y_test_q, y_pred_pegasos))\n",
        "\n",
        "plt.figure(figsize=(6, 4))\n",
        "sns.heatmap(cm, annot=True, fmt=\"d\", cmap=\"Blues\")\n",
        "plt.title(f\"Confusion Matrix: PegasosQSVC \")\n",
        "plt.xlabel(\"Predicted Label\")\n",
        "plt.ylabel(\"True Label\")\n",
        "plt.show()"
      ],
      "metadata": {
        "colab": {
          "base_uri": "https://localhost:8080/",
          "height": 663
        },
        "id": "B-5tnrPIGC2x",
        "outputId": "3d8728cf-307d-471d-979f-800630e151dc"
      },
      "id": "B-5tnrPIGC2x",
      "execution_count": null,
      "outputs": [
        {
          "output_type": "stream",
          "name": "stdout",
          "text": [
            "PegasosQSVC accuracy: 0.505\n",
            "classification report:\n",
            "              precision    recall  f1-score   support\n",
            "\n",
            "           0       0.50      0.96      0.66       100\n",
            "           1       0.56      0.05      0.09       100\n",
            "\n",
            "    accuracy                           0.51       200\n",
            "   macro avg       0.53      0.51      0.38       200\n",
            "weighted avg       0.53      0.51      0.38       200\n",
            "\n",
            "Confusion Matrix: \n",
            " [[96  4]\n",
            " [95  5]]\n"
          ]
        },
        {
          "output_type": "display_data",
          "data": {
            "text/plain": [
              "<Figure size 600x400 with 2 Axes>"
            ],
            "image/png": "[encoded data removed]"
          },
          "metadata": {}
        }
      ]
    },
    {
      "cell_type": "markdown",
      "source": [
        "PegasosQSVC got ~50% accuracy, yet its predictions are very imbalanced — correctly classifying most of class 0 samples (96% recall) and nearly entirely failing to classify class 1 (5% recall). The confusion matrix verifies that the model is predicting almost everything as class 0. This outcome indicates that the selected quantum kernel + Pegasos optimization did not generalize well between both classes and points towards the necessity of tuning (kernel depth, C parameter) or other feature maps to enhance minority-class recall.\n",
        "\n",
        "---"
      ],
      "metadata": {
        "id": "us9LbDNLZRTM"
      },
      "id": "us9LbDNLZRTM"
    },
    {
      "cell_type": "markdown",
      "source": [
        "**3. VQC (fully quantum classifier)**"
      ],
      "metadata": {
        "id": "-VC9Oa3oGJIb"
      },
      "id": "-VC9Oa3oGJIb"
    },
    {
      "cell_type": "code",
      "source": [
        "from qiskit.primitives import Sampler\n",
        "\n",
        "# Number of features = num_qubits = PCA dimension (say 5)\n",
        "feature_dim = X_train_q.shape[1]\n",
        "\n",
        "# Feature map (must be decomposed to standard gates)\n",
        "feature_map_vqc = ZZFeatureMap(feature_dimension=feature_dim, reps=1).decompose()\n",
        "\n",
        "# Ansatz (variational form)\n",
        "ansatz = TwoLocal(num_qubits=feature_dim, reps=2, entanglement=\"full\").decompose()\n",
        "\n",
        "# Optimizer\n",
        "optimizer = COBYLA(maxiter=200)"
      ],
      "metadata": {
        "id": "6LBmlU6dGQ21"
      },
      "id": "6LBmlU6dGQ21",
      "execution_count": null,
      "outputs": []
    },
    {
      "cell_type": "code",
      "source": [
        "vqc = VQC(\n",
        "    feature_map=feature_map_vqc,\n",
        "    ansatz=ansatz,\n",
        "    optimizer=optimizer,\n",
        "    sampler=Sampler(),\n",
        ")\n",
        "\n",
        "vqc.fit(X_train_q, y_train_q)\n",
        "y_pred_vqc = vqc.predict(X_test_q)"
      ],
      "metadata": {
        "id": "iwKXx8JeGS53"
      },
      "id": "iwKXx8JeGS53",
      "execution_count": null,
      "outputs": []
    },
    {
      "cell_type": "code",
      "source": [
        "print(\"VQC accuracy:\", accuracy_score(y_test_q, y_pred_vqc))\n",
        "print(\"classification report:\")\n",
        "print(classification_report(y_test_q, y_pred_vqc))\n",
        "print(\"Confusion Matrix: \\n\", confusion_matrix(y_test_q, y_pred_vqc))\n",
        "\n",
        "plt.figure(figsize=(6, 4))\n",
        "sns.heatmap(cm, annot=True, fmt=\"d\", cmap=\"Reds\")\n",
        "plt.title(f\"Confusion Matrix: VQC \")\n",
        "plt.xlabel(\"Predicted Label\")\n",
        "plt.ylabel(\"True Label\")\n",
        "plt.show()"
      ],
      "metadata": {
        "colab": {
          "base_uri": "https://localhost:8080/",
          "height": 663
        },
        "id": "oJOV7L_XGU94",
        "outputId": "f56129c4-3001-43a2-ff60-5d48054c1b76"
      },
      "id": "oJOV7L_XGU94",
      "execution_count": null,
      "outputs": [
        {
          "output_type": "stream",
          "name": "stdout",
          "text": [
            "VQC accuracy: 0.49\n",
            "classification report:\n",
            "              precision    recall  f1-score   support\n",
            "\n",
            "           0       0.49      0.70      0.58       100\n",
            "           1       0.48      0.28      0.35       100\n",
            "\n",
            "    accuracy                           0.49       200\n",
            "   macro avg       0.49      0.49      0.47       200\n",
            "weighted avg       0.49      0.49      0.47       200\n",
            "\n",
            "Confusion Matrix: \n",
            " [[70 30]\n",
            " [72 28]]\n"
          ]
        },
        {
          "output_type": "display_data",
          "data": {
            "text/plain": [
              "<Figure size 600x400 with 2 Axes>"
            ],
            "image/png": "[encoded data removed]"
          },
          "metadata": {}
        }
      ]
    },
    {
      "cell_type": "markdown",
      "source": [
        "The VQC had only ~49% accuracy, indicating that it was having trouble identifying a significant decision boundary. Although it accurately identified 70% of class 0s, class 1 recall dropped to only 28%, which means the model underfits the churners.\n",
        "\n",
        "The confusion matrix also illustrates how misclassifications are distributed across both classes, with the model nearly performing at random. This result captures typical VQCs' challenges — a high degree of sensitivity to circuit design, parameter initialization, and choice of optimizer — demanding hyperparameter optimization, ansatz circuits of increased depth, or other optimizers (e.g., SPSA/Adam) for enhancement."
      ],
      "metadata": {
        "id": "bdGb47tTjYuT"
      },
      "id": "bdGb47tTjYuT"
    },
    {
      "cell_type": "markdown",
      "source": [
        "# **Final Results**"
      ],
      "metadata": {
        "id": "L5ebol_ljv0b"
      },
      "id": "L5ebol_ljv0b"
    },
    {
      "cell_type": "markdown",
      "source": [
        "Quantum models performed suboptimally due to dimensionality reduction that constrained available information, the selected quantum circuits were insufficiently expressive to churn classes, and optimizer/convergence problems that plagued learning.\n",
        "\n",
        "Classical tree models (**Random Forest, Gradient Boosting**) perform better than quantum models in this step. Random Forest performs the best with the best class balance between classes with high accuracy (73.5%) and a good f1‑score.\n",
        "Classic SVM is weaker but still good.\n",
        "\n",
        "Quantum kernel methods (PegasosQSVC) did not do well — they heavily defaulted to predicting Class 0, resulting in deceptively high one-class recall but near‑zero for the other.\n",
        "\n",
        "VQC (Variational Quantum Classifier) was slightly better at balancing recalls than PegasosQSVC but still only ~49% accuracy — basically close to random, indicating that it did not converge to useful decision boundaries."
      ],
      "metadata": {
        "id": "J3GG8LVbjz90"
      },
      "id": "J3GG8LVbjz90"
    },
    {
      "cell_type": "markdown",
      "source": [
        "# **Best Model Choice**\n",
        "\n",
        "➡️ `Random Forest` is the optimal model for this data:\n",
        "\n",
        "-Maximum accuracy and F1-score.\n",
        "\n",
        "-Recall balanced over both classes.\n",
        "\n",
        "-Resistant to noise and feature scaling.\n",
        "\n",
        "-Offers interpretability by way of feature importance (we observed Age and Financial variables are strongest drivers of churn)."
      ],
      "metadata": {
        "id": "VVvYV24KkBvj"
      },
      "id": "VVvYV24KkBvj"
    },
    {
      "cell_type": "markdown",
      "source": [
        "# **Recommendations**\n",
        "\n",
        "For real-world deployment:\n",
        "Utilize Random Forest as the production model since it offers the best predictive capability and stable class balance on the churn data.\n",
        "\n",
        "For exploratory experimentation with quantum ML:\n",
        "Quantum models need more effort — attempt to tune PegasosQSVC (C, steps, various feature maps) or VQC (optimizers such as SPSA/Adam, deeper ansatz).\n",
        "But at the moment, they are not competitive with classical ensembles on this dataset.\n",
        "\n",
        "Future pipeline plan:\n",
        "Maintain classical ensemble approaches for customer churn prediction in production.\n",
        "Leave quantum models in the research pipeline, perhaps on reduced datasets to benchmark and look at how feature maps influence class separability."
      ],
      "metadata": {
        "id": "zITG6rgFkctK"
      },
      "id": "zITG6rgFkctK"
    }
  ],
  "metadata": {
    "colab": {
      "provenance": []
    },
    "language_info": {
      "name": "python"
    },
    "kernelspec": {
      "name": "python3",
      "display_name": "Python 3"
    }
  },
  "nbformat": 4,
  "nbformat_minor": 5
}